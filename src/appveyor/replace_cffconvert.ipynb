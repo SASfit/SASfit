{
 "cells": [
  {
   "cell_type": "code",
   "execution_count": 56,
   "id": "98a665b5-aa1c-46c5-9d04-83cb177a0a94",
   "metadata": {},
   "outputs": [
    {
     "data": {
      "text/plain": [
       "'2.0.0'"
      ]
     },
     "execution_count": 56,
     "metadata": {},
     "output_type": "execute_result"
    }
   ],
   "source": [
    "from cffconvert.cli.create_citation import create_citation\n",
    "import cffconvert.version\n",
    "cffconvert.version.__version__"
   ]
  },
  {
   "cell_type": "markdown",
   "id": "bbf8053a-1493-4c27-b5d7-f19e1bbbf2bd",
   "metadata": {},
   "source": [
    "### JSON data for zenodo by cffconvert"
   ]
  },
  {
   "cell_type": "code",
   "execution_count": 57,
   "id": "d6859e53-9ecf-4f07-adac-e03ec64d2cab",
   "metadata": {},
   "outputs": [
    {
     "name": "stdout",
     "output_type": "stream",
     "text": [
      "{'creators': [{'affiliation': 'Laboratory for Neutron Scattering and Imaging, '\n",
      "                              'Paul Scherrer Institut, 5232 Villigen PSI, '\n",
      "                              'Switzerland',\n",
      "               'name': 'Kohlbrecher, Joachim',\n",
      "               'orcid': '0000-0001-5879-6943'},\n",
      "              {'affiliation': 'BAM Federal Institute for Materials Research '\n",
      "                              'and Testing, 12205 Berlin, Germany',\n",
      "               'name': 'Breßler, Ingo',\n",
      "               'orcid': '0000-0002-2012-0056'}],\n",
      " 'description': 'Small-angle scattering is an increasingly common method for '\n",
      "                'characterizing particle ensembles in a wide variety of sample '\n",
      "                'types and for diverse areas of application. SASfit has been '\n",
      "                'one of the most comprehensive and flexible curve-fitting '\n",
      "                'programs for decades, with many specialized tools for various '\n",
      "                'fields.',\n",
      " 'keywords': ['small-angle scattering',\n",
      "              'SAS',\n",
      "              'SAXS',\n",
      "              'SANS',\n",
      "              'numerical models',\n",
      "              'structure factors',\n",
      "              'form factors',\n",
      "              'regularization'],\n",
      " 'license': {'id': 'GPL-3.0'},\n",
      " 'title': 'SASfit'}\n"
     ]
    }
   ],
   "source": [
    "cff = \"CITATION.cff\"\n",
    "import json\n",
    "oldformat = json.loads(create_citation(cff, None).as_zenodo())\n",
    "pprint(oldformat)"
   ]
  },
  {
   "cell_type": "markdown",
   "id": "cce60653-0f2e-4772-b3d5-53c74d51c5bf",
   "metadata": {},
   "source": [
    "### Data (YAML) loaded from CITATION.cff"
   ]
  },
  {
   "cell_type": "code",
   "execution_count": 58,
   "id": "9c7186a1-f067-4a0e-9b21-21e66aa2345c",
   "metadata": {},
   "outputs": [
    {
     "name": "stdout",
     "output_type": "stream",
     "text": [
      "{'abstract': 'Small-angle scattering is an increasingly common method for '\n",
      "             'characterizing particle ensembles in a wide variety of sample '\n",
      "             'types and for diverse areas of application. SASfit has been one '\n",
      "             'of the most comprehensive and flexible curve-fitting programs '\n",
      "             'for decades, with many specialized tools for various fields.',\n",
      " 'authors': [{'affiliation': 'Laboratory for Neutron Scattering and Imaging, '\n",
      "                             'Paul Scherrer Institut, 5232 Villigen PSI, '\n",
      "                             'Switzerland',\n",
      "              'email': 'joachim.kohlbrecher@psi.ch',\n",
      "              'family-names': 'Kohlbrecher',\n",
      "              'given-names': 'Joachim',\n",
      "              'orcid': 'https://orcid.org/0000-0001-5879-6943'},\n",
      "             {'affiliation': 'BAM Federal Institute for Materials Research and '\n",
      "                             'Testing, 12205 Berlin, Germany',\n",
      "              'email': 'ingo.bressler@bam.de',\n",
      "              'family-names': 'Breßler',\n",
      "              'given-names': 'Ingo',\n",
      "              'orcid': 'https://orcid.org/0000-0002-2012-0056'}],\n",
      " 'cff-version': '1.2.0',\n",
      " 'identifiers': [{'description': 'SASfit package concept DOI',\n",
      "                  'type': 'doi',\n",
      "                  'value': '10.5072/zenodo.'},\n",
      "                 {'description': 'Latest paper: Updates in SASfit for fitting '\n",
      "                                 'analytical expressions and numerical models '\n",
      "                                 'to small-angle scattering patterns',\n",
      "                  'type': 'doi',\n",
      "                  'value': '10.1107/S1600576722009037'},\n",
      "                 {'description': 'Paper: Transformation cycle between the '\n",
      "                                 'spherically symmetric correlation function, '\n",
      "                                 'projected correlation function and '\n",
      "                                 'differential cross section as implemented in '\n",
      "                                 'SASfit',\n",
      "                  'type': 'doi',\n",
      "                  'value': '10.1107/S1600576717011979'},\n",
      "                 {'description': 'Paper: SASfit: a tool for small-angle '\n",
      "                                 'scattering data analysis using a library of '\n",
      "                                 'analytical expressions',\n",
      "                  'type': 'doi',\n",
      "                  'value': '10.1107/S1600576715016544'}],\n",
      " 'keywords': ['small-angle scattering',\n",
      "              'SAS',\n",
      "              'SAXS',\n",
      "              'SANS',\n",
      "              'numerical models',\n",
      "              'structure factors',\n",
      "              'form factors',\n",
      "              'regularization'],\n",
      " 'license': 'GPL-3.0',\n",
      " 'message': 'A curve fitting program for small-angle scattering curves, mostly '\n",
      "            'from SAXS and SANS experiments in analytical or biological '\n",
      "            'chemistry.',\n",
      " 'repository-artifact': 'https://cloudsmith.io/~sasfit/repos/build/',\n",
      " 'repository-code': 'https://github.com/SASfit/SASfit',\n",
      " 'title': 'SASfit',\n",
      " 'type': 'software',\n",
      " 'url': 'https://sasfit.org'}\n"
     ]
    }
   ],
   "source": [
    "import yaml\n",
    "from pprint import pprint\n",
    "with open(cff) as fh: data = yaml.safe_load(fh)\n",
    "pprint(data)"
   ]
  },
  {
   "cell_type": "markdown",
   "id": "188b156c-818b-4cea-a3d8-0674161fe146",
   "metadata": {},
   "source": [
    "### Replacement without cffconvert"
   ]
  },
  {
   "cell_type": "code",
   "execution_count": 63,
   "id": "6b16de86-6eec-422b-9628-a3909289a35b",
   "metadata": {},
   "outputs": [
    {
     "name": "stdout",
     "output_type": "stream",
     "text": [
      "{'creators': [{'affiliation': 'Laboratory for Neutron Scattering and Imaging, '\n",
      "                              'Paul Scherrer Institut, 5232 Villigen PSI, '\n",
      "                              'Switzerland',\n",
      "               'name': 'Kohlbrecher, Joachim',\n",
      "               'orcid': '0000-0001-5879-6943'},\n",
      "              {'affiliation': 'BAM Federal Institute for Materials Research '\n",
      "                              'and Testing, 12205 Berlin, Germany',\n",
      "               'name': 'Breßler, Ingo',\n",
      "               'orcid': '0000-0002-2012-0056'}],\n",
      " 'description': 'Small-angle scattering is an increasingly common method for '\n",
      "                'characterizing particle ensembles in a wide variety of sample '\n",
      "                'types and for diverse areas of application. SASfit has been '\n",
      "                'one of the most comprehensive and flexible curve-fitting '\n",
      "                'programs for decades, with many specialized tools for various '\n",
      "                'fields.',\n",
      " 'keywords': ['small-angle scattering',\n",
      "              'SAS',\n",
      "              'SAXS',\n",
      "              'SANS',\n",
      "              'numerical models',\n",
      "              'structure factors',\n",
      "              'form factors',\n",
      "              'regularization'],\n",
      " 'license': {'id': 'GPL-3.0'},\n",
      " 'title': 'SASfit'}\n",
      "cffconvert.cli.as_zenodo() equals manual rebuild: True\n"
     ]
    }
   ],
   "source": [
    "creators = [{\"affiliation\": author[\"affiliation\"],\n",
    "             \"name\": f'{author[\"family-names\"]}, {author[\"given-names\"]}',\n",
    "             \"orcid\": author[\"orcid\"].split(\"/\")[-1]} for author in data[\"authors\"]]\n",
    "data_zenodo = dict(creators=creators, description=data[\"abstract\"], keywords=data[\"keywords\"],\n",
    "                  license={\"id\": data[\"license\"]}, title=data[\"title\"])\n",
    "pprint(data_zenodo)\n",
    "print(\"cffconvert.cli.as_zenodo() equals manual rebuild:\", data_zenodo == oldformat)"
   ]
  }
 ],
 "metadata": {
  "kernelspec": {
   "display_name": "Python 3 (ipykernel)",
   "language": "python",
   "name": "python3"
  },
  "language_info": {
   "codemirror_mode": {
    "name": "ipython",
    "version": 3
   },
   "file_extension": ".py",
   "mimetype": "text/x-python",
   "name": "python",
   "nbconvert_exporter": "python",
   "pygments_lexer": "ipython3",
   "version": "3.10.12"
  }
 },
 "nbformat": 4,
 "nbformat_minor": 5
}

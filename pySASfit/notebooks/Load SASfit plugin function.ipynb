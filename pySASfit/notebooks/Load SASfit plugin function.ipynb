{
 "cells": [
  {
   "cell_type": "markdown",
   "id": "34851a45-334e-4462-8b6b-000b54050189",
   "metadata": {
    "tags": []
   },
   "source": [
    "# Search and load a SASfit plugin function with Python\n",
    "by Gonzalo Rumi, with modifications by Ingo Breßler"
   ]
  },
  {
   "cell_type": "markdown",
   "id": "ece35344",
   "metadata": {},
   "source": [
    "## Look for a _plugin_ function\n",
    "\n",
    "With the following code, you can search for a function and obtain information about its parameters"
   ]
  },
  {
   "cell_type": "code",
   "execution_count": 1,
   "id": "27c90882-581a-4945-86b1-2a158f4f436d",
   "metadata": {
    "tags": []
   },
   "outputs": [],
   "source": [
    "# Using Path in contemporary Python provides easy&safe helper functions\n",
    "from pathlib import Path\n",
    "sasfit_path = Path().resolve().parent.parent\n",
    "# override here if libsasfit is found somewhere else\n",
    "# sasfit_path = Path(r\"Y:\\shared\\SASfit-0.94.12-windows64\")\n",
    "assert sasfit_path.is_dir(), \"Directory 'sasfit_path' not found!\""
   ]
  },
  {
   "cell_type": "code",
   "execution_count": 2,
   "id": "0bf95878-4a06-4b0c-9b49-07c0d6a67365",
   "metadata": {
    "tags": []
   },
   "outputs": [],
   "source": [
    "#\n",
    "# This code gets all information about all the functions available as dll files\n",
    "#\n",
    "\n",
    "import os\n",
    "\n",
    "# we get a list of the .dll files in the plugin folder\n",
    "plugin_list = [\n",
    "    fn.stem[10:]\n",
    "    for fn in (sasfit_path / \"plugins\").iterdir()\n",
    "    if fn.name.startswith(\"libsasfit_\") and fn.suffix == \".dll\"\n",
    "]\n",
    "#plugin_list"
   ]
  },
  {
   "cell_type": "code",
   "execution_count": 3,
   "id": "512573b7-d6c9-4f79-aed1-79c5677e4ade",
   "metadata": {
    "tags": []
   },
   "outputs": [],
   "source": [
    "from pprint import pprint\n",
    "\n",
    "# we extract information about the functions stored in each of the header files\n",
    "functions = {}\n",
    "debug = False\n",
    "for plugin in plugin_list: # please use variables names telling something about their purpose\n",
    "    filename = sasfit_path / \"plugins\" / f\"sasfit_{plugin}.h\"\n",
    "    if debug:\n",
    "        print(filename)\n",
    "    with open(filename) as fh: # always use 'with' scope, handles file closing on exceptions for you\n",
    "        try:\n",
    "            for x in fh.read().split(\"/* ################ start \")[1:]:\n",
    "                ftype = x[:2]\n",
    "                name = (x[3:].split(\" ################ */\"))[0]\n",
    "                description = (x.split(\"* \\\\brief\")[1]).split(\n",
    "                    \"<more detailed documentation, see 'doxygen' docs>\"\n",
    "                )[0].splitlines()\n",
    "                # filter out leading ' *' C-style comments from 2nd line on\n",
    "                description = \"\".join([description[0]]\n",
    "                                        +[line.strip().removeprefix(\"*\")\n",
    "                                          for line in description[2:]]).strip()\n",
    "                #print(f\"{ftype=}, {name=}, {description=}\")\n",
    "\n",
    "                parameters_section = x.split(\"\\\\par Required parameters:\")[1].split(\"</table>\")[0]\n",
    "                #print(1,f\"{parameters_section=}\")\n",
    "                # extract parameter name and description\n",
    "                parameters = [par_field.split(\"</td>\")[0].removeprefix(r\"\\b\").strip()\n",
    "                              for par_field in parameters_section.split(\"<td>\")][1:]\n",
    "                # group parameters to (name, description) tuples\n",
    "                parameters = list(zip(*(iter(parameters),)*2))\n",
    "                functions[name] = {\n",
    "                    \"name\": name,\n",
    "                    \"type\": ftype,\n",
    "                    \"description\": description,\n",
    "                    \"parameters\": parameters,\n",
    "                    \"group\": plugin, # this should be 'plugin' instead of 'group', right?\n",
    "                                     # perhaps, confused with SF plugin groups defined in .def files\n",
    "                }\n",
    "                if debug:\n",
    "                    pprint(functions[name])\n",
    "                    print()\n",
    "        except:\n",
    "            raise\n",
    "            print(\"\\n\")  # Error retrieving parameters for \"+i+\"\\n\\n\")\n"
   ]
  },
  {
   "cell_type": "code",
   "execution_count": 4,
   "id": "ab3ab0db-dbbd-4bb6-b83c-1b2bd28f0c55",
   "metadata": {
    "tags": []
   },
   "outputs": [
    {
     "ename": "KeyboardInterrupt",
     "evalue": "Interrupted by user",
     "output_type": "error",
     "traceback": [
      "\u001b[1;31m---------------------------------------------------------------------------\u001b[0m",
      "\u001b[1;31mKeyboardInterrupt\u001b[0m                         Traceback (most recent call last)",
      "Cell \u001b[1;32mIn[4], line 1\u001b[0m\n\u001b[1;32m----> 1\u001b[0m search \u001b[38;5;241m=\u001b[39m \u001b[38;5;28;43minput\u001b[39;49m\u001b[43m(\u001b[49m\u001b[38;5;124;43m\"\u001b[39;49m\u001b[38;5;124;43m * * * * * * *\u001b[39;49m\u001b[38;5;130;43;01m\\n\u001b[39;49;00m\u001b[38;5;124;43mSearch for a particular function:\u001b[39;49m\u001b[38;5;124;43m\"\u001b[39;49m\u001b[43m)\u001b[49m\n\u001b[0;32m      2\u001b[0m \u001b[38;5;28mprint\u001b[39m(\u001b[38;5;124m\"\u001b[39m\u001b[38;5;130;01m\\n\u001b[39;00m\u001b[38;5;124m * * * * * * *\u001b[39m\u001b[38;5;130;01m\\n\u001b[39;00m\u001b[38;5;124m\"\u001b[39m)\n\u001b[0;32m      4\u001b[0m \u001b[38;5;28;01mfor\u001b[39;00m func \u001b[38;5;129;01min\u001b[39;00m functions: \u001b[38;5;66;03m# please use variables names telling something about their purpose\u001b[39;00m\n",
      "File \u001b[1;32m~\\AppData\\Local\\anaconda3\\lib\\site-packages\\ipykernel\\kernelbase.py:1202\u001b[0m, in \u001b[0;36mKernel.raw_input\u001b[1;34m(self, prompt)\u001b[0m\n\u001b[0;32m   1200\u001b[0m     msg \u001b[38;5;241m=\u001b[39m \u001b[38;5;124m\"\u001b[39m\u001b[38;5;124mraw_input was called, but this frontend does not support input requests.\u001b[39m\u001b[38;5;124m\"\u001b[39m\n\u001b[0;32m   1201\u001b[0m     \u001b[38;5;28;01mraise\u001b[39;00m StdinNotImplementedError(msg)\n\u001b[1;32m-> 1202\u001b[0m \u001b[38;5;28;01mreturn\u001b[39;00m \u001b[38;5;28;43mself\u001b[39;49m\u001b[38;5;241;43m.\u001b[39;49m\u001b[43m_input_request\u001b[49m\u001b[43m(\u001b[49m\n\u001b[0;32m   1203\u001b[0m \u001b[43m    \u001b[49m\u001b[38;5;28;43mstr\u001b[39;49m\u001b[43m(\u001b[49m\u001b[43mprompt\u001b[49m\u001b[43m)\u001b[49m\u001b[43m,\u001b[49m\n\u001b[0;32m   1204\u001b[0m \u001b[43m    \u001b[49m\u001b[38;5;28;43mself\u001b[39;49m\u001b[38;5;241;43m.\u001b[39;49m\u001b[43m_parent_ident\u001b[49m\u001b[43m[\u001b[49m\u001b[38;5;124;43m\"\u001b[39;49m\u001b[38;5;124;43mshell\u001b[39;49m\u001b[38;5;124;43m\"\u001b[39;49m\u001b[43m]\u001b[49m\u001b[43m,\u001b[49m\n\u001b[0;32m   1205\u001b[0m \u001b[43m    \u001b[49m\u001b[38;5;28;43mself\u001b[39;49m\u001b[38;5;241;43m.\u001b[39;49m\u001b[43mget_parent\u001b[49m\u001b[43m(\u001b[49m\u001b[38;5;124;43m\"\u001b[39;49m\u001b[38;5;124;43mshell\u001b[39;49m\u001b[38;5;124;43m\"\u001b[39;49m\u001b[43m)\u001b[49m\u001b[43m,\u001b[49m\n\u001b[0;32m   1206\u001b[0m \u001b[43m    \u001b[49m\u001b[43mpassword\u001b[49m\u001b[38;5;241;43m=\u001b[39;49m\u001b[38;5;28;43;01mFalse\u001b[39;49;00m\u001b[43m,\u001b[49m\n\u001b[0;32m   1207\u001b[0m \u001b[43m\u001b[49m\u001b[43m)\u001b[49m\n",
      "File \u001b[1;32m~\\AppData\\Local\\anaconda3\\lib\\site-packages\\ipykernel\\kernelbase.py:1245\u001b[0m, in \u001b[0;36mKernel._input_request\u001b[1;34m(self, prompt, ident, parent, password)\u001b[0m\n\u001b[0;32m   1242\u001b[0m \u001b[38;5;28;01mexcept\u001b[39;00m \u001b[38;5;167;01mKeyboardInterrupt\u001b[39;00m:\n\u001b[0;32m   1243\u001b[0m     \u001b[38;5;66;03m# re-raise KeyboardInterrupt, to truncate traceback\u001b[39;00m\n\u001b[0;32m   1244\u001b[0m     msg \u001b[38;5;241m=\u001b[39m \u001b[38;5;124m\"\u001b[39m\u001b[38;5;124mInterrupted by user\u001b[39m\u001b[38;5;124m\"\u001b[39m\n\u001b[1;32m-> 1245\u001b[0m     \u001b[38;5;28;01mraise\u001b[39;00m \u001b[38;5;167;01mKeyboardInterrupt\u001b[39;00m(msg) \u001b[38;5;28;01mfrom\u001b[39;00m \u001b[38;5;28;01mNone\u001b[39;00m\n\u001b[0;32m   1246\u001b[0m \u001b[38;5;28;01mexcept\u001b[39;00m \u001b[38;5;167;01mException\u001b[39;00m:\n\u001b[0;32m   1247\u001b[0m     \u001b[38;5;28mself\u001b[39m\u001b[38;5;241m.\u001b[39mlog\u001b[38;5;241m.\u001b[39mwarning(\u001b[38;5;124m\"\u001b[39m\u001b[38;5;124mInvalid Message:\u001b[39m\u001b[38;5;124m\"\u001b[39m, exc_info\u001b[38;5;241m=\u001b[39m\u001b[38;5;28;01mTrue\u001b[39;00m)\n",
      "\u001b[1;31mKeyboardInterrupt\u001b[0m: Interrupted by user"
     ]
    }
   ],
   "source": [
    "search = input(\" * * * * * * *\\nSearch for a particular function:\")\n",
    "print(\"\\n * * * * * * *\\n\")\n",
    "\n",
    "for func in functions: # please use variables names telling something about their purpose\n",
    "    if search in func:\n",
    "        print(func + \"\\n\")\n",
    "        print(functions[func][\"description\"])\n",
    "        print(\"\\nParameters:\\n\")\n",
    "        for p in functions[func][\"parameters\"]:\n",
    "            print(\":\\t\".join(p))\n",
    "        print(\"\\n * * * * * * *\\n\")"
   ]
  },
  {
   "cell_type": "markdown",
   "id": "6399d03d",
   "metadata": {},
   "source": [
    "## Obtain the values for a function by means of the _.dll_ file\n",
    "\n",
    "You can copy the name and group of the function you looked for above and obtain useful values for your code."
   ]
  },
  {
   "cell_type": "markdown",
   "id": "4e7d4dc6-3275-4168-b827-13b885fe4195",
   "metadata": {},
   "source": [
    "### Required imports"
   ]
  },
  {
   "cell_type": "code",
   "execution_count": 5,
   "id": "27978334-7e7b-4b7b-be04-8346233a1a76",
   "metadata": {
    "tags": []
   },
   "outputs": [],
   "source": [
    "import matplotlib.pyplot as plt\n",
    "import numpy as np\n",
    "import ctypes\n",
    "from ctypes import *\n",
    "import sys\n",
    "import os"
   ]
  },
  {
   "cell_type": "code",
   "execution_count": 6,
   "id": "023e13c6-bad6-488a-b118-38d543698b15",
   "metadata": {
    "tags": []
   },
   "outputs": [],
   "source": [
    "# Using Path in contemporary Python provides easy&safe helper functions\n",
    "from pathlib import Path\n",
    "sasfit_path = Path().resolve().parent.parent\n",
    "# override here if libsasfit is found somewhere else\n",
    "# sasfit_path = Path(r\"Y:\\shared\\SASfit-0.94.12-windows64\")\n",
    "assert sasfit_path.is_dir(), \"Directory 'sasfit_path' not found!\""
   ]
  },
  {
   "cell_type": "markdown",
   "id": "0ce3e7ab-3910-42ff-ac08-ffefc0695300",
   "metadata": {},
   "source": [
    "## Load main SASfit DLL and init the Plugin"
   ]
  },
  {
   "cell_type": "markdown",
   "id": "f6485ecb-b8bd-4384-be70-52a05061c465",
   "metadata": {
    "tags": []
   },
   "source": [
    "### Need to define the SASfit parameter structure first\n",
    "Needed to get error messages and such ..."
   ]
  },
  {
   "cell_type": "code",
   "execution_count": 7,
   "id": "38b626f1-4614-4165-84cc-7d6e156050c4",
   "metadata": {
    "tags": []
   },
   "outputs": [],
   "source": [
    "# has to match the value in\n",
    "# https://github.com/SASfit/SASfit/blob/master/src/sasfit_common/include/sasfit_constants.h#L45\n",
    "MAXPAR = 50\n",
    "STRLEN = 256 # defined below MAXPAR in the same file\n",
    "\n",
    "# defining an equivalent of the C sasfit_param struct\n",
    "# https://github.com/SASfit/SASfit/blob/master/src/sasfit_common/include/sasfit_function.h#L146\n",
    "# according to https://docs.python.org/3/library/ctypes.html#structures-and-unions\n",
    "class SASFIT_PARAM(ctypes.Structure):\n",
    "    _fields_ = [(\"p\", ctypes.c_double * MAXPAR),\n",
    "                # sasfit_kernel_type, numbered sequentially, in:\n",
    "                # https://github.com/SASfit/SASfit/blob/master/src/sasfit_common/include/sasfit_function.h#L118\n",
    "                (\"kernelSelector\", ctypes.c_int),\n",
    "                (\"kernelSubSelector\", ctypes.c_int),\n",
    "                (\"errStr\", ctypes.c_char * STRLEN),\n",
    "                (\"errLen\", ctypes.c_int),\n",
    "                (\"errStatus\", ctypes.c_int),\n",
    "                (\"xarr\", ctypes.c_void_p),\n",
    "                (\"yarr\", ctypes.c_void_p),\n",
    "                (\"moreparam\", ctypes.c_void_p),\n",
    "                (\"more_p\", ctypes.c_double * MAXPAR),\n",
    "                # function pointer, set to void* for now, not sure where this is used\n",
    "                (\"function\", ctypes.c_void_p)\n",
    "               ]"
   ]
  },
  {
   "cell_type": "markdown",
   "id": "91890ac9-847f-4c85-a52f-8f949f9309a9",
   "metadata": {},
   "source": [
    "### Rebuilding SASfit data structures at play\n",
    "Required for plugin management functions, such as setting the *stub* pointer (points to a table of internal SASfit functions, also some frequently used numerical algos). *SASfit does this for each plugin it loads.*"
   ]
  },
  {
   "cell_type": "code",
   "execution_count": 8,
   "id": "9e5ff750-992d-4b5f-ac97-8f348d72ef3e",
   "metadata": {
    "tags": []
   },
   "outputs": [],
   "source": [
    "## Python implementation of *examples/example_sasfit_ff_fuzzysphere.c*\n",
    "SASFIT_FUNC_ONE_T = CFUNCTYPE(c_double, c_double, POINTER(SASFIT_PARAM))\n",
    "SASFIT_FUNC_VOL_T = CFUNCTYPE(c_double, c_double, POINTER(SASFIT_PARAM), c_int)\n",
    "class SASFIT_PLUGIN_FUNC_T(ctypes.Structure):\n",
    "    _fields_ = [(\"len\", ctypes.c_int),\n",
    "                (\"name\", ctypes.c_char_p),\n",
    "                (\"func\", POINTER(SASFIT_FUNC_ONE_T)),\n",
    "                (\"func_f\", POINTER(SASFIT_FUNC_ONE_T)),\n",
    "                (\"func_v\", POINTER(SASFIT_FUNC_VOL_T)),]\n",
    "class SASFIT_PLUGIN_INFO_T(ctypes.Structure):\n",
    "    _fields_ = [(\"num\", ctypes.c_int),\n",
    "                (\"functions\", POINTER(SASFIT_PLUGIN_FUNC_T))]\n",
    "class SASFIT_COMMON_STUBS_T(ctypes.Structure):\n",
    "    _fields_ = [(\"func\", ctypes.c_void_p*155),\n",
    "                ]"
   ]
  },
  {
   "cell_type": "markdown",
   "id": "73bfd62c-bc65-4acc-9d0a-463b88a2b5bd",
   "metadata": {},
   "source": [
    "### Mind the stubs!\n",
    "It is important to call each plugins `do_init()` function first. Most importantly, it sets the *stubs* pointer which gives access to SASfits internal functions, such as `sasfit_param_set_err()` (called by `CHECK_COND*()`) and many numerical routines. They do not appear as DLL dependencies. The stub pointer is set pointing to a sasfit.dll structure during plugin loading which has to be replicated with python."
   ]
  },
  {
   "cell_type": "code",
   "execution_count": 9,
   "id": "f2edc222-9cf1-4a9c-b5fd-570e9f18f194",
   "metadata": {
    "tags": []
   },
   "outputs": [],
   "source": [
    "os.chdir(sasfit_path) # needs to load dependent libs in main dir\n",
    "SASFIT_CORE_DLL = cdll.LoadLibrary(str(sasfit_path / \"libsasfit.dll\"))\n",
    "SASFIT_PLUGIN_DLL = cdll.LoadLibrary(str(sasfit_path / \"plugins\" / \"libsasfit_peak.dll\"))"
   ]
  },
  {
   "cell_type": "code",
   "execution_count": 10,
   "id": "7c53b6c3-7a01-4049-8eff-c5091b3b90cf",
   "metadata": {
    "tags": []
   },
   "outputs": [
    {
     "name": "stdout",
     "output_type": "stream",
     "text": [
      "Initializing plugin ...\n",
      "success.\n"
     ]
    }
   ],
   "source": [
    "print(\"Initializing plugin ...\")\n",
    "pi = (POINTER(SASFIT_PLUGIN_INFO_T)*1)()\n",
    "bool(pi) # a test\n",
    "SASFIT_CORE_DLL.sasfit_common_stubs_ptr.restype = POINTER(SASFIT_COMMON_STUBS_T)\n",
    "SASFIT_PLUGIN_DLL.do_init.restype = ctypes.c_int\n",
    "if bool(SASFIT_PLUGIN_DLL.do_init(byref(pi),\n",
    "                                SASFIT_CORE_DLL.sasfit_common_stubs_ptr(),\n",
    "                                SASFIT_CORE_DLL.sasfit_plugin_search)):\n",
    "    print(\"success.\")\n",
    "else:\n",
    "    print(\"There is a problem!\")"
   ]
  },
  {
   "cell_type": "code",
   "execution_count": 11,
   "id": "b107cc88-bac8-4397-8e88-28e139f8e743",
   "metadata": {
    "tags": []
   },
   "outputs": [
    {
     "data": {
      "image/png": "[encoded data removed]",
      "text/plain": [
       "<Figure size 640x480 with 1 Axes>"
      ]
     },
     "metadata": {},
     "output_type": "display_data"
    }
   ],
   "source": [
    "def read_dll(xvec, *args):\n",
    "    #read_gaussian = cdll.LoadLibrary(str(sasfit_path / \"plugins\" / \"libsasfit_peak.dll\")).sasfit_peak_gaussian_amplitude\n",
    "    read_gaussian = SASFIT_PLUGIN_DLL.sasfit_peak_gaussian_amplitude\n",
    "#    read_gpolymer= cdll.LoadLibrary(\"C:\\SASfit-0.94.12\\plugins\\libsasfit_polymer_chains.dll\").sasfit_ff_gauspoly\n",
    "#    read_HS=cdll.LoadLibrary(\"C:\\SASfit-0.94.12\\plugins\\libsasfit_hard_spheres.dll\").sasfit_sq_hard_sphere__4_3_\n",
    "    \n",
    "    read_gaussian.restype = c_double\n",
    "    \n",
    "    par = SASFIT_PARAM((args[:3]+(0, 0)+args[3:]))\n",
    "    #par.p[2] *= -1 # SASFIT_CHECK_COND1() raising an error here\n",
    "    \n",
    "    # list comprehensions are faster typically\n",
    "    result = [read_gaussian(c_double(x), byref(par)) for x in xvec]\n",
    "    assert not par.errStatus, par.errStr.decode(\"utf8\")\n",
    "    return result\n",
    "\n",
    "xvec = np.arange(0, 15, 0.1)\n",
    "plt.ion()\n",
    "plt.plot(xvec, read_dll(xvec, 1, 4, 2.2, 0.2))\n",
    "plt.show()"
   ]
  },
  {
   "cell_type": "code",
   "execution_count": 12,
   "id": "c244a9e7",
   "metadata": {
    "tags": []
   },
   "outputs": [
    {
     "data": {
      "text/plain": [
       "3.2080676736862443"
      ]
     },
     "execution_count": 12,
     "metadata": {},
     "output_type": "execute_result"
    }
   ],
   "source": [
    "import ctypes\n",
    "from ctypes import *\n",
    "import sys\n",
    "import os\n",
    "\n",
    "read_gaussian=SASFIT_PLUGIN_DLL.sasfit_peak_gaussian_amplitude\n",
    "\n",
    "par=(ctypes.c_double * 6)(*[3, 5, 2.2, 0, 0, 0.4])\n",
    "\n",
    "read_gaussian.restype = c_double\n",
    "\n",
    "read_gaussian(c_double(4.2), POINTER(c_double)(par))"
   ]
  },
  {
   "cell_type": "code",
   "execution_count": 13,
   "id": "7855c843-f6de-400f-a159-f2f3b5e09e01",
   "metadata": {
    "tags": []
   },
   "outputs": [],
   "source": [
    "from uniplot import plot"
   ]
  },
  {
   "cell_type": "code",
   "execution_count": 14,
   "id": "02715ef1-4b27-4325-a673-df491470423c",
   "metadata": {
    "tags": []
   },
   "outputs": [
    {
     "name": "stdout",
     "output_type": "stream",
     "text": [
      "┌────────────────────────────────────────────────────────────┐\n",
      "│                        ▘                                   │ 5\n",
      "│                                                            │ \n",
      "│                                                            │ \n",
      "│                  ▘           ▘                             │ \n",
      "│                                                            │ \n",
      "│                                                            │ \n",
      "│            ▖                      ▗                        │ \n",
      "│                                                            │ \n",
      "│                                                            │ \n",
      "│                                                            │ \n",
      "│      ▘                                  ▝                  │ \n",
      "│                                                            │ \n",
      "│                                                            │ \n",
      "│▖                                              ▗            │ \n",
      "│                                                            │ \n",
      "│                                                            │ \n",
      "│▁▁▁▁▁▁▁▁▁▁▁▁▁▁▁▁▁▁▁▁▁▁▁▁▁▁▁▁▁▁▁▁▁▁▁▁▁▁▁▁▁▁▁▁▁▁▁▁▁▁▁▁▁▗▁▁▁▁▁▗│ 0\n",
      "└────────────────────────────────────────────────────────────┘\n",
      "       2           4           6          8          10\n"
     ]
    }
   ],
   "source": [
    "plot([1,2,3,4,5,4,3,2,1,0,0])"
   ]
  },
  {
   "cell_type": "code",
   "execution_count": 16,
   "id": "05a9371d-c8c4-4949-b523-e91256a0738b",
   "metadata": {},
   "outputs": [
    {
     "name": "stdout",
     "output_type": "stream",
     "text": [
      "\u001b[48;5;15m                                                                  \u001b[0m\u001b[48;5;15m\u001b[38;5;0mScatter Plot\u001b[0m\u001b[48;5;15m                                                              \u001b[0m\n",
      "\u001b[48;5;15m     \u001b[0m\u001b[48;5;15m\u001b[38;5;0m┌─────────────────────────────────────────────────────────────────────────────────────────────────────────────────────────────────────┐\u001b[0m\n",
      "\u001b[48;5;15m\u001b[38;5;0m 1.00┤\u001b[0m\u001b[48;5;15m             \u001b[0m\u001b[48;5;15m\u001b[38;5;12m••••••••\u001b[0m\u001b[48;5;15m                                                           \u001b[0m\u001b[48;5;15m\u001b[38;5;12m•••••••\u001b[0m\u001b[48;5;15m                                              \u001b[0m\u001b[48;5;15m\u001b[38;5;0m│\u001b[0m\n",
      "\u001b[48;5;15m     \u001b[0m\u001b[48;5;15m\u001b[38;5;0m│\u001b[0m\u001b[48;5;15m           \u001b[0m\u001b[48;5;15m\u001b[38;5;12m•••\u001b[0m\u001b[48;5;15m       \u001b[0m\u001b[48;5;15m\u001b[38;5;12m•••\u001b[0m\u001b[48;5;15m                                                     \u001b[0m\u001b[48;5;15m\u001b[38;5;12m•••\u001b[0m\u001b[48;5;15m      \u001b[0m\u001b[48;5;15m\u001b[38;5;12m•••\u001b[0m\u001b[48;5;15m                                            \u001b[0m\u001b[48;5;15m\u001b[38;5;0m│\u001b[0m\n",
      "\u001b[48;5;15m     \u001b[0m\u001b[48;5;15m\u001b[38;5;0m│\u001b[0m\u001b[48;5;15m         \u001b[0m\u001b[48;5;15m\u001b[38;5;12m••\u001b[0m\u001b[48;5;15m            \u001b[0m\u001b[48;5;15m\u001b[38;5;12m••\u001b[0m\u001b[48;5;15m                                                  \u001b[0m\u001b[48;5;15m\u001b[38;5;12m••\u001b[0m\u001b[48;5;15m            \u001b[0m\u001b[48;5;15m\u001b[38;5;12m••\u001b[0m\u001b[48;5;15m                                          \u001b[0m\u001b[48;5;15m\u001b[38;5;0m│\u001b[0m\n",
      "\u001b[48;5;15m\u001b[38;5;0m 0.67┤\u001b[0m\u001b[48;5;15m       \u001b[0m\u001b[48;5;15m\u001b[38;5;12m••\u001b[0m\u001b[48;5;15m                \u001b[0m\u001b[48;5;15m\u001b[38;5;12m••\u001b[0m\u001b[48;5;15m                                              \u001b[0m\u001b[48;5;15m\u001b[38;5;12m••\u001b[0m\u001b[48;5;15m                \u001b[0m\u001b[48;5;15m\u001b[38;5;12m••\u001b[0m\u001b[48;5;15m                                        \u001b[0m\u001b[48;5;15m\u001b[38;5;0m│\u001b[0m\n",
      "\u001b[48;5;15m     \u001b[0m\u001b[48;5;15m\u001b[38;5;0m│\u001b[0m\u001b[48;5;15m      \u001b[0m\u001b[48;5;15m\u001b[38;5;12m••\u001b[0m\u001b[48;5;15m                   \u001b[0m\u001b[48;5;15m\u001b[38;5;12m•\u001b[0m\u001b[48;5;15m                                            \u001b[0m\u001b[48;5;15m\u001b[38;5;12m•\u001b[0m\u001b[48;5;15m                   \u001b[0m\u001b[48;5;15m\u001b[38;5;12m••\u001b[0m\u001b[48;5;15m                                       \u001b[0m\u001b[48;5;15m\u001b[38;5;0m│\u001b[0m\n",
      "\u001b[48;5;15m     \u001b[0m\u001b[48;5;15m\u001b[38;5;0m│\u001b[0m\u001b[48;5;15m     \u001b[0m\u001b[48;5;15m\u001b[38;5;12m•\u001b[0m\u001b[48;5;15m                      \u001b[0m\u001b[48;5;15m\u001b[38;5;12m••\u001b[0m\u001b[48;5;15m                                        \u001b[0m\u001b[48;5;15m\u001b[38;5;12m••\u001b[0m\u001b[48;5;15m                      \u001b[0m\u001b[48;5;15m\u001b[38;5;12m•\u001b[0m\u001b[48;5;15m                                      \u001b[0m\u001b[48;5;15m\u001b[38;5;0m│\u001b[0m\n",
      "\u001b[48;5;15m\u001b[38;5;0m 0.33┤\u001b[0m\u001b[48;5;15m   \u001b[0m\u001b[48;5;15m\u001b[38;5;12m••\u001b[0m\u001b[48;5;15m                        \u001b[0m\u001b[48;5;15m\u001b[38;5;12m••\u001b[0m\u001b[48;5;15m                                      \u001b[0m\u001b[48;5;15m\u001b[38;5;12m••\u001b[0m\u001b[48;5;15m                        \u001b[0m\u001b[48;5;15m\u001b[38;5;12m••\u001b[0m\u001b[48;5;15m                                    \u001b[0m\u001b[48;5;15m\u001b[38;5;0m│\u001b[0m\n",
      "\u001b[48;5;15m     \u001b[0m\u001b[48;5;15m\u001b[38;5;0m│\u001b[0m\u001b[48;5;15m  \u001b[0m\u001b[48;5;15m\u001b[38;5;12m••\u001b[0m\u001b[48;5;15m                           \u001b[0m\u001b[48;5;15m\u001b[38;5;12m•\u001b[0m\u001b[48;5;15m                                    \u001b[0m\u001b[48;5;15m\u001b[38;5;12m•\u001b[0m\u001b[48;5;15m                           \u001b[0m\u001b[48;5;15m\u001b[38;5;12m••\u001b[0m\u001b[48;5;15m                                   \u001b[0m\u001b[48;5;15m\u001b[38;5;0m│\u001b[0m\n",
      "\u001b[48;5;15m     \u001b[0m\u001b[48;5;15m\u001b[38;5;0m│\u001b[0m\u001b[48;5;15m \u001b[0m\u001b[48;5;15m\u001b[38;5;12m•\u001b[0m\u001b[48;5;15m                              \u001b[0m\u001b[48;5;15m\u001b[38;5;12m•\u001b[0m\u001b[48;5;15m                                  \u001b[0m\u001b[48;5;15m\u001b[38;5;12m••\u001b[0m\u001b[48;5;15m                             \u001b[0m\u001b[48;5;15m\u001b[38;5;12m•\u001b[0m\u001b[48;5;15m                                  \u001b[0m\u001b[48;5;15m\u001b[38;5;0m│\u001b[0m\n",
      "\u001b[48;5;15m\u001b[38;5;0m 0.00┤\u001b[0m\u001b[48;5;15m\u001b[38;5;12m•\u001b[0m\u001b[48;5;15m                                \u001b[0m\u001b[48;5;15m\u001b[38;5;12m•\u001b[0m\u001b[48;5;15m                                \u001b[0m\u001b[48;5;15m\u001b[38;5;12m•\u001b[0m\u001b[48;5;15m                                \u001b[0m\u001b[48;5;15m\u001b[38;5;12m•\u001b[0m\u001b[48;5;15m                                \u001b[0m\u001b[48;5;15m\u001b[38;5;12m•\u001b[0m\u001b[48;5;15m\u001b[38;5;0m│\u001b[0m\n",
      "\u001b[48;5;15m     \u001b[0m\u001b[48;5;15m\u001b[38;5;0m│\u001b[0m\u001b[48;5;15m                                  \u001b[0m\u001b[48;5;15m\u001b[38;5;12m•\u001b[0m\u001b[48;5;15m                             \u001b[0m\u001b[48;5;15m\u001b[38;5;12m••\u001b[0m\u001b[48;5;15m                                  \u001b[0m\u001b[48;5;15m\u001b[38;5;12m•\u001b[0m\u001b[48;5;15m                              \u001b[0m\u001b[48;5;15m\u001b[38;5;12m•\u001b[0m\u001b[48;5;15m \u001b[0m\u001b[48;5;15m\u001b[38;5;0m│\u001b[0m\n",
      "\u001b[48;5;15m     \u001b[0m\u001b[48;5;15m\u001b[38;5;0m│\u001b[0m\u001b[48;5;15m                                   \u001b[0m\u001b[48;5;15m\u001b[38;5;12m••\u001b[0m\u001b[48;5;15m                           \u001b[0m\u001b[48;5;15m\u001b[38;5;12m•\u001b[0m\u001b[48;5;15m                                    \u001b[0m\u001b[48;5;15m\u001b[38;5;12m•\u001b[0m\u001b[48;5;15m                           \u001b[0m\u001b[48;5;15m\u001b[38;5;12m••\u001b[0m\u001b[48;5;15m  \u001b[0m\u001b[48;5;15m\u001b[38;5;0m│\u001b[0m\n",
      "\u001b[48;5;15m\u001b[38;5;0m-0.33┤\u001b[0m\u001b[48;5;15m                                    \u001b[0m\u001b[48;5;15m\u001b[38;5;12m••\u001b[0m\u001b[48;5;15m                        \u001b[0m\u001b[48;5;15m\u001b[38;5;12m••\u001b[0m\u001b[48;5;15m                                      \u001b[0m\u001b[48;5;15m\u001b[38;5;12m••\u001b[0m\u001b[48;5;15m                        \u001b[0m\u001b[48;5;15m\u001b[38;5;12m••\u001b[0m\u001b[48;5;15m   \u001b[0m\u001b[48;5;15m\u001b[38;5;0m│\u001b[0m\n",
      "\u001b[48;5;15m     \u001b[0m\u001b[48;5;15m\u001b[38;5;0m│\u001b[0m\u001b[48;5;15m                                      \u001b[0m\u001b[48;5;15m\u001b[38;5;12m•\u001b[0m\u001b[48;5;15m                      \u001b[0m\u001b[48;5;15m\u001b[38;5;12m••\u001b[0m\u001b[48;5;15m                                        \u001b[0m\u001b[48;5;15m\u001b[38;5;12m••\u001b[0m\u001b[48;5;15m                      \u001b[0m\u001b[48;5;15m\u001b[38;5;12m•\u001b[0m\u001b[48;5;15m     \u001b[0m\u001b[48;5;15m\u001b[38;5;0m│\u001b[0m\n",
      "\u001b[48;5;15m     \u001b[0m\u001b[48;5;15m\u001b[38;5;0m│\u001b[0m\u001b[48;5;15m                                       \u001b[0m\u001b[48;5;15m\u001b[38;5;12m••\u001b[0m\u001b[48;5;15m                   \u001b[0m\u001b[48;5;15m\u001b[38;5;12m•\u001b[0m\u001b[48;5;15m                                            \u001b[0m\u001b[48;5;15m\u001b[38;5;12m•\u001b[0m\u001b[48;5;15m                   \u001b[0m\u001b[48;5;15m\u001b[38;5;12m••\u001b[0m\u001b[48;5;15m      \u001b[0m\u001b[48;5;15m\u001b[38;5;0m│\u001b[0m\n",
      "\u001b[48;5;15m\u001b[38;5;0m-0.67┤\u001b[0m\u001b[48;5;15m                                        \u001b[0m\u001b[48;5;15m\u001b[38;5;12m••\u001b[0m\u001b[48;5;15m                \u001b[0m\u001b[48;5;15m\u001b[38;5;12m••\u001b[0m\u001b[48;5;15m                                              \u001b[0m\u001b[48;5;15m\u001b[38;5;12m••\u001b[0m\u001b[48;5;15m                \u001b[0m\u001b[48;5;15m\u001b[38;5;12m••\u001b[0m\u001b[48;5;15m       \u001b[0m\u001b[48;5;15m\u001b[38;5;0m│\u001b[0m\n",
      "\u001b[48;5;15m     \u001b[0m\u001b[48;5;15m\u001b[38;5;0m│\u001b[0m\u001b[48;5;15m                                          \u001b[0m\u001b[48;5;15m\u001b[38;5;12m••\u001b[0m\u001b[48;5;15m            \u001b[0m\u001b[48;5;15m\u001b[38;5;12m••\u001b[0m\u001b[48;5;15m                                                  \u001b[0m\u001b[48;5;15m\u001b[38;5;12m••\u001b[0m\u001b[48;5;15m            \u001b[0m\u001b[48;5;15m\u001b[38;5;12m••\u001b[0m\u001b[48;5;15m         \u001b[0m\u001b[48;5;15m\u001b[38;5;0m│\u001b[0m\n",
      "\u001b[48;5;15m     \u001b[0m\u001b[48;5;15m\u001b[38;5;0m│\u001b[0m\u001b[48;5;15m                                            \u001b[0m\u001b[48;5;15m\u001b[38;5;12m•••\u001b[0m\u001b[48;5;15m      \u001b[0m\u001b[48;5;15m\u001b[38;5;12m•••\u001b[0m\u001b[48;5;15m                                                     \u001b[0m\u001b[48;5;15m\u001b[38;5;12m•••\u001b[0m\u001b[48;5;15m       \u001b[0m\u001b[48;5;15m\u001b[38;5;12m•••\u001b[0m\u001b[48;5;15m           \u001b[0m\u001b[48;5;15m\u001b[38;5;0m│\u001b[0m\n",
      "\u001b[48;5;15m\u001b[38;5;0m-1.00┤\u001b[0m\u001b[48;5;15m                                              \u001b[0m\u001b[48;5;15m\u001b[38;5;12m•••••••\u001b[0m\u001b[48;5;15m                                                           \u001b[0m\u001b[48;5;15m\u001b[38;5;12m••••••••\u001b[0m\u001b[48;5;15m             \u001b[0m\u001b[48;5;15m\u001b[38;5;0m│\u001b[0m\n",
      "\u001b[48;5;15m     \u001b[0m\u001b[48;5;15m\u001b[38;5;0m└┬────────────────────────────────┬────────────────────────────────┬────────────────────────────────┬────────────────────────────────┬┘\u001b[0m\n",
      "\u001b[48;5;15m     \u001b[0m\u001b[48;5;15m\u001b[38;5;0m1.0\u001b[0m\u001b[48;5;15m                             \u001b[0m\u001b[48;5;15m\u001b[38;5;0m50.8\u001b[0m\u001b[48;5;15m                             \u001b[0m\u001b[48;5;15m\u001b[38;5;0m100.5\u001b[0m\u001b[48;5;15m                            \u001b[0m\u001b[48;5;15m\u001b[38;5;0m150.2\u001b[0m\u001b[48;5;15m                          \u001b[0m\u001b[48;5;15m\u001b[38;5;0m200.0\u001b[0m\u001b[48;5;15m \u001b[0m\n"
     ]
    }
   ],
   "source": [
    "import plotext as plt\n",
    "y = plt.sin() # sinusoidal signal \n",
    "plt.scatter(y)\n",
    "plt.title(\"Scatter Plot\")\n",
    "plt.show()"
   ]
  },
  {
   "cell_type": "code",
   "execution_count": 18,
   "id": "2e1fa97f-a9c0-4c61-96f5-59e2606df5d3",
   "metadata": {
    "tags": []
   },
   "outputs": [
    {
     "data": {
      "image/png": "[encoded data removed]",
      "text/plain": [
       "<Figure size 640x480 with 1 Axes>"
      ]
     },
     "metadata": {},
     "output_type": "display_data"
    }
   ],
   "source": [
    "import matplotlib\n",
    "#matplotlib.use('module://matplotlib-sixel')\n",
    "from pylab import *\n",
    "plt.plot(sin(arange(100) / 10))\n",
    "show()"
   ]
  },
  {
   "cell_type": "code",
   "execution_count": 24,
   "id": "f8c4f73c-cb99-4c65-b17c-fa1246febd6f",
   "metadata": {
    "tags": []
   },
   "outputs": [
    {
     "name": "stdout",
     "output_type": "stream",
     "text": [
      "[*********************100%%**********************]  1 of 1 completed\n"
     ]
    },
    {
     "ename": "AttributeError",
     "evalue": "module 'plotext' has no attribute 'datetimes_to_strings'",
     "output_type": "error",
     "traceback": [
      "\u001b[1;31m---------------------------------------------------------------------------\u001b[0m",
      "\u001b[1;31mAttributeError\u001b[0m                            Traceback (most recent call last)",
      "Cell \u001b[1;32mIn[24], line 9\u001b[0m\n\u001b[0;32m      7\u001b[0m end \u001b[38;5;241m=\u001b[39m plt\u001b[38;5;241m.\u001b[39mtoday_datetime()\n\u001b[0;32m      8\u001b[0m data \u001b[38;5;241m=\u001b[39m yf\u001b[38;5;241m.\u001b[39mdownload(\u001b[38;5;124m'\u001b[39m\u001b[38;5;124mgoog\u001b[39m\u001b[38;5;124m'\u001b[39m, start, end)\n\u001b[1;32m----> 9\u001b[0m dates \u001b[38;5;241m=\u001b[39m \u001b[43mplt\u001b[49m\u001b[38;5;241;43m.\u001b[39;49m\u001b[43mdatetimes_to_strings\u001b[49m(data\u001b[38;5;241m.\u001b[39mindex)\n\u001b[0;32m     10\u001b[0m p \u001b[38;5;241m=\u001b[39m [\u001b[38;5;124m\"\u001b[39m\u001b[38;5;124mSausage\u001b[39m\u001b[38;5;124m\"\u001b[39m, \u001b[38;5;124m\"\u001b[39m\u001b[38;5;124mPepperoni\u001b[39m\u001b[38;5;124m\"\u001b[39m, \u001b[38;5;124m\"\u001b[39m\u001b[38;5;124mMushrooms\u001b[39m\u001b[38;5;124m\"\u001b[39m, \u001b[38;5;124m\"\u001b[39m\u001b[38;5;124mCheese\u001b[39m\u001b[38;5;124m\"\u001b[39m, \u001b[38;5;124m\"\u001b[39m\u001b[38;5;124mChicken\u001b[39m\u001b[38;5;124m\"\u001b[39m, \u001b[38;5;124m\"\u001b[39m\u001b[38;5;124mBeef\u001b[39m\u001b[38;5;124m\"\u001b[39m]\n\u001b[0;32m     11\u001b[0m mp \u001b[38;5;241m=\u001b[39m [\u001b[38;5;241m14\u001b[39m, \u001b[38;5;241m36\u001b[39m, \u001b[38;5;241m11\u001b[39m, \u001b[38;5;241m8\u001b[39m, \u001b[38;5;241m7\u001b[39m, \u001b[38;5;241m4\u001b[39m]\n",
      "\u001b[1;31mAttributeError\u001b[0m: module 'plotext' has no attribute 'datetimes_to_strings'"
     ]
    }
   ],
   "source": [
    "import plotext as plt\n",
    "import random\n",
    "import yfinance as yf\n",
    "\n",
    "plt.date_form('d/m/Y')\n",
    "start = plt.string_to_datetime(\"11/07/2020\")\n",
    "end = plt.today_datetime()\n",
    "data = yf.download('goog', start, end)\n",
    "dates = plt.datetimes_to_strings(data.index)\n",
    "p = [\"Sausage\", \"Pepperoni\", \"Mushrooms\", \"Cheese\", \"Chicken\", \"Beef\"]\n",
    "mp = [14, 36, 11, 8, 7, 4]\n",
    "fp = [12, 20, 35, 15, 2, 1]\n",
    "hd = [random.gauss(1, 1) for el in range(3 * 10 ** 5)]\n",
    "\n",
    "path = 'cat.jpg'\n",
    "plt.download(plt.test_image_url, path)\n",
    "\n",
    "plt.clf()\n",
    "plt.subplots(1, 2)\n",
    "plt.subplot(1, 1).plotsize(plt.tw() // 2, None)\n",
    "plt.subplot(1, 1).subplots(3, 1)\n",
    "plt.subplot(1, 2).subplots(2, 1)\n",
    "plt.subplot(1, 1).ticks_style('bold')\n",
    "\n",
    "plt.subplot(1, 1).subplot(1, 1)\n",
    "plt.theme('windows')\n",
    "plt.candlestick(dates, data)\n",
    "plt.title(\"Google Stock Price CandleSticks\")\n",
    "\n",
    "plt.subplot(1, 1).subplot(2, 1)\n",
    "plt.theme('dreamland')\n",
    "plt.stacked_bar(p, [mp, fp], labels = [\"men\", \"women\"])\n",
    "plt.title(\"Most Favored Pizzas in the World by Gender\")\n",
    "\n",
    "plt.subplot(1, 1).subplot(3, 1)\n",
    "plt.theme('matrix')\n",
    "bins = 18\n",
    "plt.hist(hd, bins, label = \"Gaussian Noise Distribution\", marker = 'fhd')\n",
    "plt.yfrequency(0)\n",
    "plt.title('Histogram Plot')\n",
    "\n",
    "plt.subplot(1, 2).subplot(1, 1).title('Default Theme')\n",
    "plt.plot(plt.sin(periods = 3), marker = \"fhd\", label = \"3 periods\")\n",
    "plt.plot(plt.sin(periods = 2), marker = \"fhd\", label = \"2 periods\")\n",
    "plt.plot(plt.sin(periods = 1), marker = \"fhd\", label = \"1 period\")\n",
    "\n",
    "plt.subplot(1, 2).subplot(2, 1)\n",
    "plt.plotsize(2 * plt.tw() // 3, plt.th() // 2)\n",
    "plt.image_plot(path)\n",
    "plt.title(\"A very Cute Cat\")\n",
    "\n",
    "plt.show()\n",
    "plt.delete_file(path)"
   ]
  },
  {
   "cell_type": "code",
   "execution_count": 32,
   "id": "54b8d9de-5b18-42a3-8606-c1dc4891fbf1",
   "metadata": {
    "tags": []
   },
   "outputs": [
    {
     "ename": "FileNotFoundError",
     "evalue": "[WinError 2] The system cannot find the file specified",
     "output_type": "error",
     "traceback": [
      "\u001b[1;31m---------------------------------------------------------------------------\u001b[0m",
      "\u001b[1;31mFileNotFoundError\u001b[0m                         Traceback (most recent call last)",
      "Cell \u001b[1;32mIn[32], line 8\u001b[0m\n\u001b[0;32m      5\u001b[0m y \u001b[38;5;241m=\u001b[39m numpy\u001b[38;5;241m.\u001b[39msin(x)\n\u001b[0;32m      7\u001b[0m fig \u001b[38;5;241m=\u001b[39m tpl\u001b[38;5;241m.\u001b[39mfigure()\n\u001b[1;32m----> 8\u001b[0m \u001b[43mfig\u001b[49m\u001b[38;5;241;43m.\u001b[39;49m\u001b[43mplot\u001b[49m\u001b[43m(\u001b[49m\u001b[43mx\u001b[49m\u001b[43m,\u001b[49m\u001b[43m \u001b[49m\u001b[43my\u001b[49m\u001b[43m,\u001b[49m\u001b[43m \u001b[49m\u001b[43mlabel\u001b[49m\u001b[38;5;241;43m=\u001b[39;49m\u001b[38;5;124;43m\"\u001b[39;49m\u001b[38;5;124;43mdata\u001b[39;49m\u001b[38;5;124;43m\"\u001b[39;49m\u001b[43m,\u001b[49m\u001b[43m \u001b[49m\u001b[43mwidth\u001b[49m\u001b[38;5;241;43m=\u001b[39;49m\u001b[38;5;241;43m50\u001b[39;49m\u001b[43m,\u001b[49m\u001b[43m \u001b[49m\u001b[43mheight\u001b[49m\u001b[38;5;241;43m=\u001b[39;49m\u001b[38;5;241;43m15\u001b[39;49m\u001b[43m)\u001b[49m\n\u001b[0;32m      9\u001b[0m fig\u001b[38;5;241m.\u001b[39mshow()\n",
      "File \u001b[1;32m~\\AppData\\Local\\anaconda3\\lib\\site-packages\\termplotlib\\figure.py:65\u001b[0m, in \u001b[0;36mFigure.plot\u001b[1;34m(self, *args, **kwargs)\u001b[0m\n\u001b[0;32m     64\u001b[0m \u001b[38;5;28;01mdef\u001b[39;00m \u001b[38;5;21mplot\u001b[39m(\u001b[38;5;28mself\u001b[39m, \u001b[38;5;241m*\u001b[39margs, \u001b[38;5;241m*\u001b[39m\u001b[38;5;241m*\u001b[39mkwargs):\n\u001b[1;32m---> 65\u001b[0m     \u001b[38;5;28mself\u001b[39m\u001b[38;5;241m.\u001b[39m_content\u001b[38;5;241m.\u001b[39mappend(plot(\u001b[38;5;241m*\u001b[39margs, \u001b[38;5;241m*\u001b[39m\u001b[38;5;241m*\u001b[39mkwargs))\n",
      "File \u001b[1;32m~\\AppData\\Local\\anaconda3\\lib\\site-packages\\termplotlib\\plot.py:19\u001b[0m, in \u001b[0;36mplot\u001b[1;34m(x, y, width, height, label, xlim, ylim, xlabel, title, extra_gnuplot_arguments, plot_command, ticks_scale)\u001b[0m\n\u001b[0;32m      5\u001b[0m \u001b[38;5;28;01mdef\u001b[39;00m \u001b[38;5;21mplot\u001b[39m(\n\u001b[0;32m      6\u001b[0m     x: List[\u001b[38;5;28mfloat\u001b[39m],\n\u001b[0;32m      7\u001b[0m     y: List[\u001b[38;5;28mfloat\u001b[39m],\n\u001b[1;32m   (...)\u001b[0m\n\u001b[0;32m     17\u001b[0m     ticks_scale: \u001b[38;5;28mint\u001b[39m \u001b[38;5;241m=\u001b[39m \u001b[38;5;241m0\u001b[39m,\n\u001b[0;32m     18\u001b[0m ):\n\u001b[1;32m---> 19\u001b[0m     p \u001b[38;5;241m=\u001b[39m \u001b[43msubprocess\u001b[49m\u001b[38;5;241;43m.\u001b[39;49m\u001b[43mPopen\u001b[49m\u001b[43m(\u001b[49m\n\u001b[0;32m     20\u001b[0m \u001b[43m        \u001b[49m\u001b[43m[\u001b[49m\u001b[38;5;124;43m\"\u001b[39;49m\u001b[38;5;124;43mgnuplot\u001b[39;49m\u001b[38;5;124;43m\"\u001b[39;49m\u001b[43m]\u001b[49m\u001b[43m,\u001b[49m\n\u001b[0;32m     21\u001b[0m \u001b[43m        \u001b[49m\u001b[43mstdout\u001b[49m\u001b[38;5;241;43m=\u001b[39;49m\u001b[43msubprocess\u001b[49m\u001b[38;5;241;43m.\u001b[39;49m\u001b[43mPIPE\u001b[49m\u001b[43m,\u001b[49m\n\u001b[0;32m     22\u001b[0m \u001b[43m        \u001b[49m\u001b[43mstdin\u001b[49m\u001b[38;5;241;43m=\u001b[39;49m\u001b[43msubprocess\u001b[49m\u001b[38;5;241;43m.\u001b[39;49m\u001b[43mPIPE\u001b[49m\u001b[43m,\u001b[49m\n\u001b[0;32m     23\u001b[0m \u001b[43m        \u001b[49m\u001b[43mstderr\u001b[49m\u001b[38;5;241;43m=\u001b[39;49m\u001b[43msubprocess\u001b[49m\u001b[38;5;241;43m.\u001b[39;49m\u001b[43mPIPE\u001b[49m\u001b[43m,\u001b[49m\n\u001b[0;32m     24\u001b[0m \u001b[43m    \u001b[49m\u001b[43m)\u001b[49m\n\u001b[0;32m     26\u001b[0m     gnuplot_input \u001b[38;5;241m=\u001b[39m []\n\u001b[0;32m     28\u001b[0m     gnuplot_input\u001b[38;5;241m.\u001b[39mappend(\u001b[38;5;124mf\u001b[39m\u001b[38;5;124m\"\u001b[39m\u001b[38;5;124mset term dumb mono \u001b[39m\u001b[38;5;132;01m{\u001b[39;00mwidth\u001b[38;5;132;01m}\u001b[39;00m\u001b[38;5;124m,\u001b[39m\u001b[38;5;132;01m{\u001b[39;00mheight\u001b[38;5;132;01m}\u001b[39;00m\u001b[38;5;124m\"\u001b[39m)\n",
      "File \u001b[1;32m~\\AppData\\Local\\anaconda3\\lib\\subprocess.py:971\u001b[0m, in \u001b[0;36mPopen.__init__\u001b[1;34m(self, args, bufsize, executable, stdin, stdout, stderr, preexec_fn, close_fds, shell, cwd, env, universal_newlines, startupinfo, creationflags, restore_signals, start_new_session, pass_fds, user, group, extra_groups, encoding, errors, text, umask, pipesize)\u001b[0m\n\u001b[0;32m    967\u001b[0m         \u001b[38;5;28;01mif\u001b[39;00m \u001b[38;5;28mself\u001b[39m\u001b[38;5;241m.\u001b[39mtext_mode:\n\u001b[0;32m    968\u001b[0m             \u001b[38;5;28mself\u001b[39m\u001b[38;5;241m.\u001b[39mstderr \u001b[38;5;241m=\u001b[39m io\u001b[38;5;241m.\u001b[39mTextIOWrapper(\u001b[38;5;28mself\u001b[39m\u001b[38;5;241m.\u001b[39mstderr,\n\u001b[0;32m    969\u001b[0m                     encoding\u001b[38;5;241m=\u001b[39mencoding, errors\u001b[38;5;241m=\u001b[39merrors)\n\u001b[1;32m--> 971\u001b[0m     \u001b[38;5;28;43mself\u001b[39;49m\u001b[38;5;241;43m.\u001b[39;49m\u001b[43m_execute_child\u001b[49m\u001b[43m(\u001b[49m\u001b[43margs\u001b[49m\u001b[43m,\u001b[49m\u001b[43m \u001b[49m\u001b[43mexecutable\u001b[49m\u001b[43m,\u001b[49m\u001b[43m \u001b[49m\u001b[43mpreexec_fn\u001b[49m\u001b[43m,\u001b[49m\u001b[43m \u001b[49m\u001b[43mclose_fds\u001b[49m\u001b[43m,\u001b[49m\n\u001b[0;32m    972\u001b[0m \u001b[43m                        \u001b[49m\u001b[43mpass_fds\u001b[49m\u001b[43m,\u001b[49m\u001b[43m \u001b[49m\u001b[43mcwd\u001b[49m\u001b[43m,\u001b[49m\u001b[43m \u001b[49m\u001b[43menv\u001b[49m\u001b[43m,\u001b[49m\n\u001b[0;32m    973\u001b[0m \u001b[43m                        \u001b[49m\u001b[43mstartupinfo\u001b[49m\u001b[43m,\u001b[49m\u001b[43m \u001b[49m\u001b[43mcreationflags\u001b[49m\u001b[43m,\u001b[49m\u001b[43m \u001b[49m\u001b[43mshell\u001b[49m\u001b[43m,\u001b[49m\n\u001b[0;32m    974\u001b[0m \u001b[43m                        \u001b[49m\u001b[43mp2cread\u001b[49m\u001b[43m,\u001b[49m\u001b[43m \u001b[49m\u001b[43mp2cwrite\u001b[49m\u001b[43m,\u001b[49m\n\u001b[0;32m    975\u001b[0m \u001b[43m                        \u001b[49m\u001b[43mc2pread\u001b[49m\u001b[43m,\u001b[49m\u001b[43m \u001b[49m\u001b[43mc2pwrite\u001b[49m\u001b[43m,\u001b[49m\n\u001b[0;32m    976\u001b[0m \u001b[43m                        \u001b[49m\u001b[43merrread\u001b[49m\u001b[43m,\u001b[49m\u001b[43m \u001b[49m\u001b[43merrwrite\u001b[49m\u001b[43m,\u001b[49m\n\u001b[0;32m    977\u001b[0m \u001b[43m                        \u001b[49m\u001b[43mrestore_signals\u001b[49m\u001b[43m,\u001b[49m\n\u001b[0;32m    978\u001b[0m \u001b[43m                        \u001b[49m\u001b[43mgid\u001b[49m\u001b[43m,\u001b[49m\u001b[43m \u001b[49m\u001b[43mgids\u001b[49m\u001b[43m,\u001b[49m\u001b[43m \u001b[49m\u001b[43muid\u001b[49m\u001b[43m,\u001b[49m\u001b[43m \u001b[49m\u001b[43mumask\u001b[49m\u001b[43m,\u001b[49m\n\u001b[0;32m    979\u001b[0m \u001b[43m                        \u001b[49m\u001b[43mstart_new_session\u001b[49m\u001b[43m)\u001b[49m\n\u001b[0;32m    980\u001b[0m \u001b[38;5;28;01mexcept\u001b[39;00m:\n\u001b[0;32m    981\u001b[0m     \u001b[38;5;66;03m# Cleanup if the child failed starting.\u001b[39;00m\n\u001b[0;32m    982\u001b[0m     \u001b[38;5;28;01mfor\u001b[39;00m f \u001b[38;5;129;01min\u001b[39;00m \u001b[38;5;28mfilter\u001b[39m(\u001b[38;5;28;01mNone\u001b[39;00m, (\u001b[38;5;28mself\u001b[39m\u001b[38;5;241m.\u001b[39mstdin, \u001b[38;5;28mself\u001b[39m\u001b[38;5;241m.\u001b[39mstdout, \u001b[38;5;28mself\u001b[39m\u001b[38;5;241m.\u001b[39mstderr)):\n",
      "File \u001b[1;32m~\\AppData\\Local\\anaconda3\\lib\\subprocess.py:1456\u001b[0m, in \u001b[0;36mPopen._execute_child\u001b[1;34m(self, args, executable, preexec_fn, close_fds, pass_fds, cwd, env, startupinfo, creationflags, shell, p2cread, p2cwrite, c2pread, c2pwrite, errread, errwrite, unused_restore_signals, unused_gid, unused_gids, unused_uid, unused_umask, unused_start_new_session)\u001b[0m\n\u001b[0;32m   1454\u001b[0m \u001b[38;5;66;03m# Start the process\u001b[39;00m\n\u001b[0;32m   1455\u001b[0m \u001b[38;5;28;01mtry\u001b[39;00m:\n\u001b[1;32m-> 1456\u001b[0m     hp, ht, pid, tid \u001b[38;5;241m=\u001b[39m \u001b[43m_winapi\u001b[49m\u001b[38;5;241;43m.\u001b[39;49m\u001b[43mCreateProcess\u001b[49m\u001b[43m(\u001b[49m\u001b[43mexecutable\u001b[49m\u001b[43m,\u001b[49m\u001b[43m \u001b[49m\u001b[43margs\u001b[49m\u001b[43m,\u001b[49m\n\u001b[0;32m   1457\u001b[0m \u001b[43m                             \u001b[49m\u001b[38;5;66;43;03m# no special security\u001b[39;49;00m\n\u001b[0;32m   1458\u001b[0m \u001b[43m                             \u001b[49m\u001b[38;5;28;43;01mNone\u001b[39;49;00m\u001b[43m,\u001b[49m\u001b[43m \u001b[49m\u001b[38;5;28;43;01mNone\u001b[39;49;00m\u001b[43m,\u001b[49m\n\u001b[0;32m   1459\u001b[0m \u001b[43m                             \u001b[49m\u001b[38;5;28;43mint\u001b[39;49m\u001b[43m(\u001b[49m\u001b[38;5;129;43;01mnot\u001b[39;49;00m\u001b[43m \u001b[49m\u001b[43mclose_fds\u001b[49m\u001b[43m)\u001b[49m\u001b[43m,\u001b[49m\n\u001b[0;32m   1460\u001b[0m \u001b[43m                             \u001b[49m\u001b[43mcreationflags\u001b[49m\u001b[43m,\u001b[49m\n\u001b[0;32m   1461\u001b[0m \u001b[43m                             \u001b[49m\u001b[43menv\u001b[49m\u001b[43m,\u001b[49m\n\u001b[0;32m   1462\u001b[0m \u001b[43m                             \u001b[49m\u001b[43mcwd\u001b[49m\u001b[43m,\u001b[49m\n\u001b[0;32m   1463\u001b[0m \u001b[43m                             \u001b[49m\u001b[43mstartupinfo\u001b[49m\u001b[43m)\u001b[49m\n\u001b[0;32m   1464\u001b[0m \u001b[38;5;28;01mfinally\u001b[39;00m:\n\u001b[0;32m   1465\u001b[0m     \u001b[38;5;66;03m# Child is launched. Close the parent's copy of those pipe\u001b[39;00m\n\u001b[0;32m   1466\u001b[0m     \u001b[38;5;66;03m# handles that only the child should have open.  You need\u001b[39;00m\n\u001b[1;32m   (...)\u001b[0m\n\u001b[0;32m   1469\u001b[0m     \u001b[38;5;66;03m# pipe will not close when the child process exits and the\u001b[39;00m\n\u001b[0;32m   1470\u001b[0m     \u001b[38;5;66;03m# ReadFile will hang.\u001b[39;00m\n\u001b[0;32m   1471\u001b[0m     \u001b[38;5;28mself\u001b[39m\u001b[38;5;241m.\u001b[39m_close_pipe_fds(p2cread, p2cwrite,\n\u001b[0;32m   1472\u001b[0m                          c2pread, c2pwrite,\n\u001b[0;32m   1473\u001b[0m                          errread, errwrite)\n",
      "\u001b[1;31mFileNotFoundError\u001b[0m: [WinError 2] The system cannot find the file specified"
     ]
    }
   ],
   "source": [
    "import termplotlib as tpl\n",
    "import numpy\n",
    "\n",
    "x = numpy.linspace(0, 2 * numpy.pi, 10)\n",
    "y = numpy.sin(x)\n",
    "\n",
    "fig = tpl.figure()\n",
    "fig.plot(x, y, label=\"data\", width=50, height=15)\n",
    "fig.show()"
   ]
  },
  {
   "cell_type": "code",
   "execution_count": 33,
   "id": "0dde7bb2-cb7e-493d-ad90-43a5591bfa47",
   "metadata": {
    "tags": []
   },
   "outputs": [
    {
     "name": "stdout",
     "output_type": "stream",
     "text": [
      "                          Sine wave\n",
      "┌────────────────────────────────────────────────────────────┐\n",
      "│                                                    ▟▀▚     │ \n",
      "│                                                   ▗▘ ▝▌    │ \n",
      "│                                       ▗▛▜▖        ▞   ▐    │ \n",
      "│                                       ▞  ▜       ▗▌    ▌   │ 2\n",
      "│                           ▟▀▙        ▗▘  ▝▌      ▐     ▜   │ \n",
      "│                          ▐▘ ▝▖       ▞    ▜      ▌     ▝▌  │ \n",
      "│              ▗▛▜▖        ▛   ▜      ▗▌    ▝▌    ▐▘      ▜  │ \n",
      "│              ▛  ▙       ▗▘   ▝▖     ▐      ▚    ▞       ▝▌ │ \n",
      "│  ▟▀▖        ▐▘  ▝▖      ▟     ▚     ▌      ▝▖  ▗▌        ▜▄│ 1\n",
      "│ ▐▘ ▐▖       ▛    ▙      ▌     ▐▖   ▗▘       ▚  ▞           │ \n",
      "│ ▛   ▙      ▗▘    ▐▖    ▐       ▙   ▞        ▝▙▟▘           │ \n",
      "│▐▘   ▐▖     ▐      ▌    ▛       ▐▖ ▗▘                       │ \n",
      "│▞     ▌     ▌      ▐   ▗▘        ▜▄▛                        │ \n",
      "│▌─────▐────▐▘───────▙──▞────────────────────────────────────│ 0\n",
      "│       ▌   ▛        ▝▙▟▘                                    │ \n",
      "│       ▜  ▐▘                                                │ \n",
      "│        ▙▄▛                                                 │ \n",
      "└────────────────────────────────────────────────────────────┘\n",
      "         100       200       300       400       500       600\n"
     ]
    }
   ],
   "source": [
    "import math\n",
    "x = [math.sin(i/20)+i/300 for i in range(600)]\n",
    "from uniplot import plot\n",
    "plot(x, title=\"Sine wave\")"
   ]
  },
  {
   "cell_type": "code",
   "execution_count": 34,
   "id": "163e264d-8379-46ec-b755-bdb01458e3e6",
   "metadata": {
    "tags": []
   },
   "outputs": [],
   "source": [
    "from math import cos\n",
    "from math import pi\n",
    "\n",
    "# ------------------------------------------------------------------------------\n",
    "\n",
    "from asciichartpy import plot"
   ]
  },
  {
   "cell_type": "code",
   "execution_count": 42,
   "id": "e721dd8e-68af-47a4-a103-623f0e29c951",
   "metadata": {
    "tags": []
   },
   "outputs": [
    {
     "name": "stdout",
     "output_type": "stream",
     "text": [
      "   17.00  ┤\n",
      "   11.33  ┼────────╮                                          ╭────────────────╮                                          ╭───────\n",
      "    5.67  ┤        ╰────╮                                ╭────╯                ╰────╮                                ╭────╯\n",
      "    0.00  ┼             ╰──╮                          ╭──╯                          ╰──╮                          ╭──╯\n",
      "   -5.67  ┤                ╰────╮                ╭────╯                                ╰────╮                ╭────╯\n",
      "  -11.33  ┤                     ╰────────────────╯                                          ╰────────────────╯\n",
      "  -17.00  ┤\n"
     ]
    }
   ],
   "source": [
    "width = 120\n",
    "series = [17 * round(cos(i * ((pi * 4) / width)), 2) for i in range(width)]\n",
    "\n",
    "\n",
    "print(plot(series, {'height':5}))\n"
   ]
  },
  {
   "cell_type": "code",
   "execution_count": 43,
   "id": "0978c7c8-3623-48f8-8fc9-c9ddc3293b1b",
   "metadata": {
    "tags": []
   },
   "outputs": [],
   "source": [
    "import plotext as plt\n",
    "import random"
   ]
  },
  {
   "cell_type": "code",
   "execution_count": 45,
   "id": "9af2ea71-4492-45b1-bd7e-4a161c50e7db",
   "metadata": {
    "tags": []
   },
   "outputs": [],
   "source": [
    "plt.clf()\n",
    "plt.subplots(1, 2)\n",
    "plt.subplot(1, 1).plotsize(plt.tw() // 2, None)\n",
    "plt.subplot(1, 1).subplots(3, 1)\n",
    "plt.subplot(1, 2).subplots(2, 1)\n",
    "plt.subplot(1, 1).ticks_style('bold')"
   ]
  },
  {
   "cell_type": "code",
   "execution_count": 46,
   "id": "15f08b56-98bd-4942-82fe-2888966aa5bd",
   "metadata": {
    "tags": []
   },
   "outputs": [],
   "source": [
    "plt.subplot(1, 2).subplot(1, 1).title('Default Theme')\n",
    "plt.plot(plt.sin(periods = 3), marker = \"fhd\", label = \"3 periods\")\n",
    "plt.plot(plt.sin(periods = 2), marker = \"fhd\", label = \"2 periods\")\n",
    "plt.plot(plt.sin(periods = 1), marker = \"fhd\", label = \"1 period\")\n"
   ]
  },
  {
   "cell_type": "code",
   "execution_count": 47,
   "id": "7a4e2d14-34ec-444f-8ebc-9b26fac2fe12",
   "metadata": {
    "tags": []
   },
   "outputs": [
    {
     "name": "stdout",
     "output_type": "stream",
     "text": [
      "\u001b[48;5;15m\u001b[38;5;0m┌────────────────────────────────────────────────────────────────────┐\u001b[0m\u001b[48;5;15m                               \u001b[0m\u001b[48;5;15m\u001b[38;5;0mDefault Theme\u001b[0m\u001b[48;5;15m                          \u001b[0m\n",
      "\u001b[48;5;15m\u001b[38;5;0m│\u001b[0m\u001b[48;5;15m                                                                    \u001b[0m\u001b[48;5;15m\u001b[38;5;0m│\u001b[0m\u001b[48;5;15m     \u001b[0m\u001b[48;5;15m\u001b[38;5;0m┌───────────────────────────────────────────────────────────────┐\u001b[0m\n",
      "\u001b[48;5;15m\u001b[38;5;0m│\u001b[0m\u001b[48;5;15m                                                                    \u001b[0m\u001b[48;5;15m\u001b[38;5;0m│ 1.00┤\u001b[0m\u001b[48;5;15m \u001b[0m\u001b[48;5;15m\u001b[38;5;12m🬗🬗\u001b[0m\u001b[48;5;15m\u001b[38;5;0m 3 periods \u001b[0m\u001b[48;5;15m\u001b[38;5;9m🬂🬂🬂🬂🬂🬋🬋🬢🬭\u001b[0m\u001b[48;5;15m \u001b[0m\u001b[48;5;15m\u001b[38;5;12m🬖🬆🬂🬈🬭\u001b[0m\u001b[48;5;15m      \u001b[0m\u001b[48;5;15m\u001b[38;5;10m🬞🬖🬍🬂🬂🬂🬋🬱\u001b[0m\u001b[48;5;15m \u001b[0m\u001b[48;5;15m\u001b[38;5;12m🬞🬚🬂🬂🬋🬏\u001b[0m\u001b[48;5;15m             \u001b[0m\u001b[48;5;15m\u001b[38;5;0m│\u001b[0m\n",
      "\u001b[48;5;15m\u001b[38;5;0m│\u001b[0m\u001b[48;5;15m                                                                    \u001b[0m\u001b[48;5;15m\u001b[38;5;0m│ 0.67┤\u001b[0m\u001b[48;5;15m \u001b[0m\u001b[48;5;15m\u001b[38;5;10m🬗🬗\u001b[0m\u001b[48;5;15m\u001b[38;5;0m 2 periods \u001b[0m\u001b[48;5;15m        \u001b[0m\u001b[48;5;15m\u001b[38;5;12m🬞\u001b[0m\u001b[48;5;15m\u001b[38;5;9m🬂🬈🬋🬭\u001b[0m\u001b[48;5;15m \u001b[0m\u001b[48;5;15m\u001b[38;5;12m🬁🬣\u001b[0m\u001b[48;5;15m   \u001b[0m\u001b[48;5;15m\u001b[38;5;10m🬞🬚🬀\u001b[0m\u001b[48;5;15m      \u001b[0m\u001b[48;5;15m\u001b[38;5;10m🬁🬊🬢\u001b[0m\u001b[48;5;15m    \u001b[0m\u001b[48;5;15m\u001b[38;5;12m🬁🬢\u001b[0m\u001b[48;5;15m            \u001b[0m\u001b[48;5;15m\u001b[38;5;0m│\u001b[0m\n",
      "\u001b[48;5;15m\u001b[38;5;0m│\u001b[0m\u001b[48;5;15m                                                                    \u001b[0m\u001b[48;5;15m\u001b[38;5;0m│ 0.33┤\u001b[0m\u001b[48;5;15m \u001b[0m\u001b[48;5;15m\u001b[38;5;9m🬗🬗\u001b[0m\u001b[48;5;15m\u001b[38;5;0m 1 period  \u001b[0m\u001b[48;5;15m\u001b[38;5;10m🬣🬏\u001b[0m\u001b[48;5;15m     \u001b[0m\u001b[48;5;15m\u001b[38;5;12m🬞🬅\u001b[0m\u001b[48;5;15m   \u001b[0m\u001b[48;5;15m\u001b[38;5;9m🬁🬂🬋🬭\u001b[0m\u001b[48;5;15m\u001b[38;5;12m🬣\u001b[0m\u001b[48;5;15m \u001b[0m\u001b[48;5;15m\u001b[38;5;10m🬵🬅\u001b[0m\u001b[48;5;15m        \u001b[0m\u001b[48;5;15m\u001b[38;5;12m🬦🬀\u001b[0m\u001b[48;5;15m\u001b[38;5;10m🬁🬌🬏\u001b[0m\u001b[48;5;15m   \u001b[0m\u001b[48;5;15m\u001b[38;5;12m🬁🬣\u001b[0m\u001b[48;5;15m           \u001b[0m\u001b[48;5;15m\u001b[38;5;0m│\u001b[0m\n",
      "\u001b[48;5;15m\u001b[38;5;0m│\u001b[0m\u001b[48;5;15m                                                                    \u001b[0m\u001b[48;5;15m\u001b[38;5;0m│ 0.00┤\u001b[0m\u001b[48;5;15m\u001b[38;5;9m🬍🬂\u001b[0m\u001b[48;5;15m        \u001b[0m\u001b[48;5;15m\u001b[38;5;12m🬧\u001b[0m\u001b[48;5;15m    \u001b[0m\u001b[48;5;15m\u001b[38;5;10m🬈🬭\u001b[0m\u001b[48;5;15m   \u001b[0m\u001b[48;5;15m\u001b[38;5;12m🬦🬀\u001b[0m\u001b[48;5;15m        \u001b[0m\u001b[48;5;15m\u001b[38;5;9m🬂🬋🬭\u001b[0m\u001b[48;5;15m        \u001b[0m\u001b[48;5;15m\u001b[38;5;12m🬞🬄\u001b[0m\u001b[48;5;15m   \u001b[0m\u001b[48;5;15m\u001b[38;5;10m🬂🬢\u001b[0m\u001b[48;5;15m    \u001b[0m\u001b[48;5;15m\u001b[38;5;12m🬣\u001b[0m\u001b[48;5;15m        \u001b[0m\u001b[48;5;15m\u001b[38;5;9m🬭🬚\u001b[0m\u001b[48;5;15m\u001b[38;5;0m│\u001b[0m\n",
      "\u001b[48;5;15m\u001b[38;5;0m└────────────────────────────────────────────────────────────────────┘-0.33┤\u001b[0m\u001b[48;5;15m           \u001b[0m\u001b[48;5;15m\u001b[38;5;12m🬧🬏\u001b[0m\u001b[48;5;15m   \u001b[0m\u001b[48;5;15m\u001b[38;5;10m🬁🬩🬏\u001b[0m\u001b[48;5;15m\u001b[38;5;12m🬞🬄\u001b[0m\u001b[48;5;15m        \u001b[0m\u001b[48;5;15m\u001b[38;5;10m🬖🬆\u001b[0m\u001b[48;5;15m \u001b[0m\u001b[48;5;15m\u001b[38;5;12m🬧\u001b[0m\u001b[48;5;15m\u001b[38;5;9m🬂🬋🬭🬏\u001b[0m\u001b[48;5;15m   \u001b[0m\u001b[48;5;15m\u001b[38;5;12m🬖🬀\u001b[0m\u001b[48;5;15m     \u001b[0m\u001b[48;5;15m\u001b[38;5;10m🬁🬧🬏\u001b[0m\u001b[48;5;15m   \u001b[0m\u001b[48;5;15m\u001b[38;5;12m🬣\u001b[0m\u001b[48;5;15m    \u001b[0m\u001b[48;5;15m\u001b[38;5;9m🬭🬋🬂🬀\u001b[0m\u001b[48;5;15m\u001b[38;5;12m🬀\u001b[0m\u001b[48;5;15m\u001b[38;5;0m│\u001b[0m\n",
      "\u001b[48;5;15m\u001b[38;5;0m┌────────────────────────────────────────────────────────────────────┐-0.67┤\u001b[0m\u001b[48;5;15m            \u001b[0m\u001b[48;5;15m\u001b[38;5;12m🬈🬏\u001b[0m\u001b[48;5;15m    \u001b[0m\u001b[48;5;15m\u001b[38;5;10m🬈🬱🬏\u001b[0m\u001b[48;5;15m      \u001b[0m\u001b[48;5;15m\u001b[38;5;10m🬞🬍🬀\u001b[0m\u001b[48;5;15m   \u001b[0m\u001b[48;5;15m\u001b[38;5;12m🬧🬏\u001b[0m\u001b[48;5;15m \u001b[0m\u001b[48;5;15m\u001b[38;5;9m🬂🬋🬢🬭\u001b[0m\u001b[48;5;15m\u001b[38;5;12m🬀\u001b[0m\u001b[48;5;15m        \u001b[0m\u001b[48;5;15m\u001b[38;5;10m🬁🬩🬏\u001b[0m\u001b[48;5;15m \u001b[0m\u001b[48;5;15m\u001b[38;5;12m🬁\u001b[0m\u001b[48;5;15m\u001b[38;5;9m🬞🬵🬋🬂🬀\u001b[0m\u001b[48;5;15m\u001b[38;5;10m🬍🬀\u001b[0m\u001b[48;5;15m\u001b[38;5;12m🬀\u001b[0m\u001b[48;5;15m \u001b[0m\u001b[48;5;15m\u001b[38;5;0m│\u001b[0m\n",
      "\u001b[48;5;15m\u001b[38;5;0m│\u001b[0m\u001b[48;5;15m                                                                    \u001b[0m\u001b[48;5;15m\u001b[38;5;0m│-1.00┤\u001b[0m\u001b[48;5;15m             \u001b[0m\u001b[48;5;15m\u001b[38;5;12m🬁🬋🬭🬭🬍🬀\u001b[0m\u001b[48;5;15m \u001b[0m\u001b[48;5;15m\u001b[38;5;10m🬊🬋🬭🬭🬭🬚🬅🬀\u001b[0m\u001b[48;5;15m      \u001b[0m\u001b[48;5;15m\u001b[38;5;12m🬂🬢🬭🬵🬅\u001b[0m\u001b[48;5;15m \u001b[0m\u001b[48;5;15m\u001b[38;5;9m🬂🬈🬋🬋🬭🬭🬭🬭🬭🬭🬖🬋🬅🬂🬀\u001b[0m\u001b[48;5;15m\u001b[38;5;10m🬭🬖🬅🬀\u001b[0m\u001b[48;5;15m\u001b[38;5;12m🬅\u001b[0m\u001b[48;5;15m   \u001b[0m\u001b[48;5;15m\u001b[38;5;0m│\u001b[0m\n",
      "\u001b[48;5;15m\u001b[38;5;0m│\u001b[0m\u001b[48;5;15m                                                                    \u001b[0m\u001b[48;5;15m\u001b[38;5;0m│\u001b[0m\u001b[48;5;15m     \u001b[0m\u001b[48;5;15m\u001b[38;5;0m└┬───────────────┬──────────────┬───────────────┬──────────────┬┘\u001b[0m\n",
      "\u001b[48;5;15m\u001b[38;5;0m│\u001b[0m\u001b[48;5;15m                                                                    \u001b[0m\u001b[48;5;15m\u001b[38;5;0m│\u001b[0m\u001b[48;5;15m     \u001b[0m\u001b[48;5;15m\u001b[38;5;0m1.0\u001b[0m\u001b[48;5;15m            \u001b[0m\u001b[48;5;15m\u001b[38;5;0m50.8\u001b[0m\u001b[48;5;15m           \u001b[0m\u001b[48;5;15m\u001b[38;5;0m100.5\u001b[0m\u001b[48;5;15m           \u001b[0m\u001b[48;5;15m\u001b[38;5;0m150.2\u001b[0m\u001b[48;5;15m        \u001b[0m\u001b[48;5;15m\u001b[38;5;0m200.0\u001b[0m\u001b[48;5;15m \u001b[0m\n",
      "\u001b[48;5;15m\u001b[38;5;0m│\u001b[0m\u001b[48;5;15m                                                                    \u001b[0m\u001b[48;5;15m\u001b[38;5;0m│┌────────────────────────────────────────────────────────────────────┐\u001b[0m\n",
      "\u001b[48;5;15m\u001b[38;5;0m│\u001b[0m\u001b[48;5;15m                                                                    \u001b[0m\u001b[48;5;15m\u001b[38;5;0m││\u001b[0m\u001b[48;5;15m                                                                    \u001b[0m\u001b[48;5;15m\u001b[38;5;0m│\u001b[0m\n",
      "\u001b[48;5;15m\u001b[38;5;0m│\u001b[0m\u001b[48;5;15m                                                                    \u001b[0m\u001b[48;5;15m\u001b[38;5;0m││\u001b[0m\u001b[48;5;15m                                                                    \u001b[0m\u001b[48;5;15m\u001b[38;5;0m│\u001b[0m\n",
      "\u001b[48;5;15m\u001b[38;5;0m└────────────────────────────────────────────────────────────────────┘│\u001b[0m\u001b[48;5;15m                                                                    \u001b[0m\u001b[48;5;15m\u001b[38;5;0m│\u001b[0m\n",
      "\u001b[48;5;15m\u001b[38;5;0m┌────────────────────────────────────────────────────────────────────┐│\u001b[0m\u001b[48;5;15m                                                                    \u001b[0m\u001b[48;5;15m\u001b[38;5;0m│\u001b[0m\n",
      "\u001b[48;5;15m\u001b[38;5;0m│\u001b[0m\u001b[48;5;15m                                                                    \u001b[0m\u001b[48;5;15m\u001b[38;5;0m││\u001b[0m\u001b[48;5;15m                                                                    \u001b[0m\u001b[48;5;15m\u001b[38;5;0m│\u001b[0m\n",
      "\u001b[48;5;15m\u001b[38;5;0m│\u001b[0m\u001b[48;5;15m                                                                    \u001b[0m\u001b[48;5;15m\u001b[38;5;0m││\u001b[0m\u001b[48;5;15m                                                                    \u001b[0m\u001b[48;5;15m\u001b[38;5;0m│\u001b[0m\n",
      "\u001b[48;5;15m\u001b[38;5;0m│\u001b[0m\u001b[48;5;15m                                                                    \u001b[0m\u001b[48;5;15m\u001b[38;5;0m││\u001b[0m\u001b[48;5;15m                                                                    \u001b[0m\u001b[48;5;15m\u001b[38;5;0m│\u001b[0m\n",
      "\u001b[48;5;15m\u001b[38;5;0m│\u001b[0m\u001b[48;5;15m                                                                    \u001b[0m\u001b[48;5;15m\u001b[38;5;0m││\u001b[0m\u001b[48;5;15m                                                                    \u001b[0m\u001b[48;5;15m\u001b[38;5;0m│\u001b[0m\n",
      "\u001b[48;5;15m\u001b[38;5;0m│\u001b[0m\u001b[48;5;15m                                                                    \u001b[0m\u001b[48;5;15m\u001b[38;5;0m││\u001b[0m\u001b[48;5;15m                                                                    \u001b[0m\u001b[48;5;15m\u001b[38;5;0m│\u001b[0m\n",
      "\u001b[48;5;15m\u001b[38;5;0m│\u001b[0m\u001b[48;5;15m                                                                    \u001b[0m\u001b[48;5;15m\u001b[38;5;0m││\u001b[0m\u001b[48;5;15m                                                                    \u001b[0m\u001b[48;5;15m\u001b[38;5;0m│\u001b[0m\n",
      "\u001b[48;5;15m\u001b[38;5;0m└────────────────────────────────────────────────────────────────────┘└────────────────────────────────────────────────────────────────────┘\u001b[0m\n"
     ]
    }
   ],
   "source": [
    "plt.show()"
   ]
  },
  {
   "cell_type": "code",
   "execution_count": null,
   "id": "85f82b54-caab-4d55-a954-ab5ecef16d35",
   "metadata": {},
   "outputs": [],
   "source": []
  }
 ],
 "metadata": {
  "kernelspec": {
   "display_name": "Python 3 (ipykernel)",
   "language": "python",
   "name": "python3"
  },
  "language_info": {
   "codemirror_mode": {
    "name": "ipython",
    "version": 3
   },
   "file_extension": ".py",
   "mimetype": "text/x-python",
   "name": "python",
   "nbconvert_exporter": "python",
   "pygments_lexer": "ipython3",
   "version": "3.10.12"
  }
 },
 "nbformat": 4,
 "nbformat_minor": 5
}

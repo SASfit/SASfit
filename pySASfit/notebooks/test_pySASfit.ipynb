{
 "cells": [
  {
   "cell_type": "markdown",
   "id": "0a8f29be",
   "metadata": {},
   "source": [
    "# notebook using toolbox for SINQ-SANS data files\n",
    "by Joachim Kohlbrecher"
   ]
  },
  {
   "cell_type": "markdown",
   "id": "344c30e0",
   "metadata": {},
   "source": [
    "## path to SASfit home dir "
   ]
  },
  {
   "cell_type": "code",
   "execution_count": 1,
   "id": "364c5811",
   "metadata": {},
   "outputs": [],
   "source": [
    "# Using Path in contemporary Python provides easy&safe helper functions\n",
    "from pathlib import Path\n",
    "sasfit_path = Path().resolve().parent.parent\n",
    "# override here if libsasfit is found somewhere else\n",
    "# sasfit_path = Path(r\"Y:\\shared\\SASfit-0.94.12-windows64\")\n",
    "assert sasfit_path.is_dir(), \"Directory 'sasfit_path' not found!\""
   ]
  },
  {
   "cell_type": "markdown",
   "id": "a45813a3",
   "metadata": {},
   "source": [
    "## Accessing io-library\n",
    "reading hdf and BerSANS data file taken on SANS-1 at SINQ/PSI"
   ]
  },
  {
   "cell_type": "code",
   "execution_count": 2,
   "id": "14c7b94b",
   "metadata": {},
   "outputs": [],
   "source": [
    "import os\n",
    "import sys\n",
    "notebook_name = os.path.basename(os.getcwd())\n",
    "sys.path.insert(0, os.path.abspath(os.path.join(os.path.dirname(os.getcwd()), '..')))\n",
    "\n",
    "from pySASfit.src.io_tools.SASformats import SANSdata"
   ]
  },
  {
   "cell_type": "code",
   "execution_count": 5,
   "id": "42e93aea",
   "metadata": {},
   "outputs": [],
   "source": [
    "Data = SANSdata('C:\\\\Users\\\\kohlbrecher\\\\switchdrive\\\\SASfitGit\\\\pySASfit\\\\data\\\\sans2023n021192.hdf')\n",
    "Data = SANSdata('C:\\\\Users\\\\kohlbrecher\\\\switchdrive\\\\SASfitGit\\\\pySASfit\\\\data\\\\D0021192.001')\n",
    "Data = SANSdata('C:\\\\Users\\\\kohlbrecher\\\\switchdrive\\\\SASfitGit\\\\pySASfit\\\\data\\\\D0021192.002')\n",
    "Data = SANSdata('C:\\\\Users\\\\kohlbrecher\\\\switchdrive\\\\SASfitGit\\\\pySASfit\\\\data\\\\D0021192.020')"
   ]
  },
  {
   "cell_type": "code",
   "execution_count": 6,
   "id": "1529b32a",
   "metadata": {},
   "outputs": [
    {
     "name": "stdout",
     "output_type": "stream",
     "text": [
      "C:\\Users\\kohlbrecher\\switchdrive\\SASfitGit\\pySASfit\\data\\D0021192.020\n",
      "D0021192.020\n",
      "C:\\Users\\kohlbrecher\\switchdrive\\SASfitGit\\pySASfit\\data\n",
      ".020\n",
      "BerSANSDIso\n",
      "{'%File,FileName': 'D0021192.020', '%File,FileDate': '24-08-2023', '%File,FileTime': '07:00:44', '%File,Type': 'SANSDIso', '%File,Title': 'Examination of structure development during extrusion of microalgae-based meat analogues by neutron scattering', '%File,User': 'Sägesser', '%File,ContentX': 'Q', '%File,ContentY': 'AvgFull', '%Sample,SampleName': 'K-0', '%Sample,Position': '112.0', '%Sample,Omega': '0.0', '%Sample,Temperature': 'nan', '%Sample,Thickness': '0.1000', '%Sample,IEEE1': '509404', '%Sample,IEEE2': '111612', '%Sample,IEEE3': '0', '%Sample,IEEE5': '499961', '%Sample,IEEE6': '55.940317869526545', '%Sample,IEEE7': '792444', '%Sample,IEEE8': '500000', '%Setup,Lambda': '0.500', '%Setup,LambdaC': '27778.812297609897', '%Setup,Attenuator': '0', '%Setup,Collimation': '8', '%Setup,SD': '1.600', '%Setup,SY': '0.01', '%Setup,Beamstop': '3', '%Setup,BeamstopX': '-23.847', '%Setup,BeamstopY': '7.0', '%History,TotalSum': '31.0426', '%History,TotalTime': '89.3740', '%History,BeamcenterX': '61.70', '%History,BeamcenterY': '64.53', '%History,RadialSteps': '1.00', '%History,SectorWidth': '180.0', '%History,MaskFile': '2m.sma', '%History,Sample-BG': 'EC', '%Counts,Qdata': array([0.4416, 0.5004, 0.5592, 0.6179, 0.6767, 0.7354, 0.794 , 0.8526,\n",
      "       0.9112, 0.9698, 1.028 , 1.087 , 1.145 , 1.203 , 1.262 , 1.32  ,\n",
      "       1.378 , 1.436 , 1.494 , 1.552 , 1.61  , 1.668 , 1.725 , 1.783 ,\n",
      "       1.841 , 1.898 , 1.955 , 2.013 , 2.07  , 2.127 , 2.184 , 2.241 ,\n",
      "       2.297 , 2.354 , 2.411 , 2.467 , 2.523 , 2.58  , 2.636 , 2.692 ,\n",
      "       2.748 , 2.803 , 2.859 , 2.914 , 2.97  , 3.025 , 3.08  , 3.135 ,\n",
      "       3.19  , 3.244 , 3.299 , 3.353 , 3.407 , 3.462 , 3.515 , 3.569 ,\n",
      "       3.623 , 3.676 , 3.73  , 3.783 , 3.836 , 3.889 , 3.941 , 3.994 ,\n",
      "       4.046 , 4.098 , 4.15  , 4.202 , 4.254 , 4.305 , 4.357 , 4.408 ,\n",
      "       4.459 , 4.51  , 4.56  , 4.611 , 4.661 , 4.711 , 4.761 , 4.811 ,\n",
      "       4.86  , 4.91  ]), '%Counts,Idata': array([2.167 , 1.887 , 1.559 , 1.269 , 1.031 , 0.8882, 0.7592, 0.6622,\n",
      "       0.5982, 0.543 , 0.5054, 0.4591, 0.434 , 0.4131, 0.3877, 0.374 ,\n",
      "       0.3584, 0.3463, 0.3293, 0.3261, 0.3144, 0.3078, 0.3032, 0.2949,\n",
      "       0.2945, 0.2872, 0.2797, 0.2762, 0.2761, 0.2719, 0.2669, 0.2685,\n",
      "       0.2637, 0.2586, 0.2583, 0.2562, 0.2547, 0.253 , 0.2555, 0.2526,\n",
      "       0.25  , 0.2525, 0.25  , 0.2502, 0.2496, 0.2462, 0.2433, 0.2462,\n",
      "       0.248 , 0.2472, 0.243 , 0.2434, 0.2436, 0.2432, 0.2437, 0.2451,\n",
      "       0.244 , 0.2428, 0.2454, 0.2419, 0.242 , 0.247 , 0.2377, 0.2409,\n",
      "       0.2419, 0.2474, 0.2432, 0.2432, 0.2414, 0.2391, 0.2383, 0.2456,\n",
      "       0.2447, 0.2508, 0.2384, 0.2444, 0.2447, 0.246 , 0.2449, 0.2437,\n",
      "       0.2122, 0.2547]), '%Counts,Edata': array([0.04848 , 0.01934 , 0.01219 , 0.008969, 0.007107, 0.006149,\n",
      "       0.005339, 0.004657, 0.004291, 0.003847, 0.003624, 0.003315,\n",
      "       0.003147, 0.002981, 0.002749, 0.002665, 0.002556, 0.002461,\n",
      "       0.002371, 0.002266, 0.002223, 0.002131, 0.002096, 0.002037,\n",
      "       0.001979, 0.001976, 0.001874, 0.001844, 0.001838, 0.00179 ,\n",
      "       0.001781, 0.001736, 0.001695, 0.001677, 0.00164 , 0.001639,\n",
      "       0.001609, 0.001597, 0.001605, 0.00155 , 0.001549, 0.001541,\n",
      "       0.001536, 0.00152 , 0.001472, 0.001483, 0.001459, 0.001465,\n",
      "       0.001463, 0.001438, 0.001435, 0.001424, 0.001413, 0.001423,\n",
      "       0.001489, 0.001516, 0.001576, 0.001662, 0.001815, 0.001873,\n",
      "       0.001949, 0.002059, 0.002078, 0.00224 , 0.002333, 0.002446,\n",
      "       0.00256 , 0.002669, 0.002779, 0.003001, 0.003055, 0.003534,\n",
      "       0.003575, 0.003829, 0.004272, 0.004433, 0.00578 , 0.005604,\n",
      "       0.007878, 0.007797, 0.01386 , 0.01787 ]), '%Counts,Rdata': array([0., 0., 0., 0., 0., 0., 0., 0., 0., 0., 0., 0., 0., 0., 0., 0., 0.,\n",
      "       0., 0., 0., 0., 0., 0., 0., 0., 0., 0., 0., 0., 0., 0., 0., 0., 0.,\n",
      "       0., 0., 0., 0., 0., 0., 0., 0., 0., 0., 0., 0., 0., 0., 0., 0., 0.,\n",
      "       0., 0., 0., 0., 0., 0., 0., 0., 0., 0., 0., 0., 0., 0., 0., 0., 0.,\n",
      "       0., 0., 0., 0., 0., 0., 0., 0., 0., 0., 0., 0., 0., 0.])}\n"
     ]
    }
   ],
   "source": [
    "print(Data.infn)\n",
    "print(Data.basename)\n",
    "print(Data.dirname)\n",
    "print(Data.ext)\n",
    "print(Data.fformat)\n",
    "print(Data.BerSANS)"
   ]
  },
  {
   "cell_type": "code",
   "execution_count": 4,
   "id": "402e9ad7",
   "metadata": {},
   "outputs": [
    {
     "ename": "KeyError",
     "evalue": "'%Counter,Sum/Moni2'",
     "output_type": "error",
     "traceback": [
      "\u001b[1;31m---------------------------------------------------------------------------\u001b[0m",
      "\u001b[1;31mKeyError\u001b[0m                                  Traceback (most recent call last)",
      "Cell \u001b[1;32mIn[4], line 2\u001b[0m\n\u001b[0;32m      1\u001b[0m \u001b[38;5;28;01mimport\u001b[39;00m \u001b[38;5;21;01mre\u001b[39;00m\n\u001b[1;32m----> 2\u001b[0m \u001b[43mData\u001b[49m\u001b[38;5;241;43m.\u001b[39;49m\u001b[43mBerSANS\u001b[49m\u001b[43m[\u001b[49m\u001b[38;5;124;43m'\u001b[39;49m\u001b[38;5;124;43m%\u001b[39;49m\u001b[38;5;124;43mCounter,Sum/Moni2\u001b[39;49m\u001b[38;5;124;43m'\u001b[39;49m\u001b[43m]\u001b[49m\n",
      "\u001b[1;31mKeyError\u001b[0m: '%Counter,Sum/Moni2'"
     ]
    }
   ],
   "source": [
    "import re\n",
    "Data.BerSANS['%Counter,Sum/Moni2']"
   ]
  },
  {
   "cell_type": "code",
   "execution_count": 7,
   "id": "e164fdba",
   "metadata": {},
   "outputs": [],
   "source": [
    "res = {key: val for key, val in Data.BerSANS.items() if re.search(f\"^%History\", key)}"
   ]
  },
  {
   "cell_type": "code",
   "execution_count": 8,
   "id": "b3b14710",
   "metadata": {},
   "outputs": [
    {
     "name": "stdout",
     "output_type": "stream",
     "text": [
      "{'%History,TotalSum': '4831.9088', '%History,TotalTime': '89.3740', '%History,Transmission': '1.0000', '%History,Scaling': '1.0000e+00', '%History,Attenuation': '1.0000e+00', '%History,Probability': '0.0000e+00', '%History,Sample-BG': 'EC'}\n"
     ]
    }
   ],
   "source": [
    "print(res)"
   ]
  },
  {
   "cell_type": "code",
   "execution_count": 8,
   "id": "3eec7698",
   "metadata": {},
   "outputs": [],
   "source": [
    "import tkinter\n",
    "tkinter._test()"
   ]
  },
  {
   "cell_type": "code",
   "execution_count": null,
   "id": "627950a5",
   "metadata": {},
   "outputs": [],
   "source": []
  }
 ],
 "metadata": {
  "kernelspec": {
   "display_name": "Python 3 (ipykernel)",
   "language": "python",
   "name": "python3"
  },
  "language_info": {
   "codemirror_mode": {
    "name": "ipython",
    "version": 3
   },
   "file_extension": ".py",
   "mimetype": "text/x-python",
   "name": "python",
   "nbconvert_exporter": "python",
   "pygments_lexer": "ipython3",
   "version": "3.10.12"
  }
 },
 "nbformat": 4,
 "nbformat_minor": 5
}

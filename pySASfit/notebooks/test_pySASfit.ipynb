{
 "cells": [
  {
   "cell_type": "markdown",
   "id": "0a8f29be",
   "metadata": {},
   "source": [
    "# notebook using toolbox for SINQ-SANS data files\n",
    "by Joachim Kohlbrecher"
   ]
  },
  {
   "cell_type": "markdown",
   "id": "344c30e0",
   "metadata": {},
   "source": [
    "## path to SASfit home dir "
   ]
  },
  {
   "cell_type": "code",
   "execution_count": 9,
   "id": "364c5811",
   "metadata": {},
   "outputs": [],
   "source": [
    "# Using Path in contemporary Python provides easy&safe helper functions\n",
    "from pathlib import Path\n",
    "sasfit_path = Path().resolve().parent.parent\n",
    "# override here if libsasfit is found somewhere else\n",
    "# sasfit_path = Path(r\"Y:\\shared\\SASfit-0.94.12-windows64\")\n",
    "assert sasfit_path.is_dir(), \"Directory 'sasfit_path' not found!\""
   ]
  },
  {
   "cell_type": "markdown",
   "id": "a45813a3",
   "metadata": {},
   "source": [
    "## Accessing io-library\n",
    "reading hdf and BerSANS data file taken on SANS-1 at SINQ/PSI"
   ]
  },
  {
   "cell_type": "code",
   "execution_count": 6,
   "id": "14c7b94b",
   "metadata": {},
   "outputs": [],
   "source": [
    "import os\n",
    "import sys\n",
    "notebook_name = os.path.basename(os.getcwd())\n",
    "sys.path.insert(0, os.path.abspath(os.path.join(os.path.dirname(os.getcwd()), '..')))\n",
    "from pySASfit.src.io_tools.SASformats import SANSdata"
   ]
  },
  {
   "cell_type": "code",
   "execution_count": 8,
   "id": "42e93aea",
   "metadata": {},
   "outputs": [
    {
     "ename": "AttributeError",
     "evalue": "'numpy.float64' object has no attribute 'decode'",
     "output_type": "error",
     "traceback": [
      "\u001b[1;31m---------------------------------------------------------------------------\u001b[0m",
      "\u001b[1;31mAttributeError\u001b[0m                            Traceback (most recent call last)",
      "Cell \u001b[1;32mIn[8], line 1\u001b[0m\n\u001b[1;32m----> 1\u001b[0m DataHdf \u001b[38;5;241m=\u001b[39m \u001b[43mSANSdata\u001b[49m\u001b[43m(\u001b[49m\u001b[38;5;124;43m'\u001b[39;49m\u001b[38;5;124;43mC:\u001b[39;49m\u001b[38;5;130;43;01m\\\\\u001b[39;49;00m\u001b[38;5;124;43mUsers\u001b[39;49m\u001b[38;5;130;43;01m\\\\\u001b[39;49;00m\u001b[38;5;124;43mkohlbrecher\u001b[39;49m\u001b[38;5;130;43;01m\\\\\u001b[39;49;00m\u001b[38;5;124;43mswitchdrive\u001b[39;49m\u001b[38;5;130;43;01m\\\\\u001b[39;49;00m\u001b[38;5;124;43mSASfitGit\u001b[39;49m\u001b[38;5;130;43;01m\\\\\u001b[39;49;00m\u001b[38;5;124;43mpySASfit\u001b[39;49m\u001b[38;5;130;43;01m\\\\\u001b[39;49;00m\u001b[38;5;124;43mdata\u001b[39;49m\u001b[38;5;130;43;01m\\\\\u001b[39;49;00m\u001b[38;5;124;43msans2023n021192.hdf\u001b[39;49m\u001b[38;5;124;43m'\u001b[39;49m\u001b[43m)\u001b[49m\n\u001b[0;32m      2\u001b[0m Data \u001b[38;5;241m=\u001b[39m SANSdata(\u001b[38;5;124m'\u001b[39m\u001b[38;5;124mC:\u001b[39m\u001b[38;5;130;01m\\\\\u001b[39;00m\u001b[38;5;124mUsers\u001b[39m\u001b[38;5;130;01m\\\\\u001b[39;00m\u001b[38;5;124mkohlbrecher\u001b[39m\u001b[38;5;130;01m\\\\\u001b[39;00m\u001b[38;5;124mswitchdrive\u001b[39m\u001b[38;5;130;01m\\\\\u001b[39;00m\u001b[38;5;124mSASfitGit\u001b[39m\u001b[38;5;130;01m\\\\\u001b[39;00m\u001b[38;5;124mpySASfit\u001b[39m\u001b[38;5;130;01m\\\\\u001b[39;00m\u001b[38;5;124mdata\u001b[39m\u001b[38;5;130;01m\\\\\u001b[39;00m\u001b[38;5;124mD0021192.001\u001b[39m\u001b[38;5;124m'\u001b[39m)\n\u001b[0;32m      3\u001b[0m \u001b[38;5;66;03m#Data = SANSdata('C:\\\\Users\\\\kohlbrecher\\\\switchdrive\\\\SASfitGit\\\\pySASfit\\\\data\\\\D0021192.002')\u001b[39;00m\n\u001b[0;32m      4\u001b[0m \u001b[38;5;66;03m#Data = SANSdata('C:\\\\Users\\\\kohlbrecher\\\\switchdrive\\\\SASfitGit\\\\pySASfit\\\\data\\\\D0021192.020')\u001b[39;00m\n",
      "File \u001b[1;32mc:\\Users\\kohlbrecher\\switchdrive\\SASfitGit\\pySASfit\\src\\io_tools\\SASformats.py:289\u001b[0m, in \u001b[0;36mSANSdata.__init__\u001b[1;34m(self, inputfn)\u001b[0m\n\u001b[0;32m    287\u001b[0m \u001b[38;5;28mself\u001b[39m\u001b[38;5;241m.\u001b[39minfn \u001b[38;5;241m=\u001b[39m inputfn\n\u001b[0;32m    288\u001b[0m \u001b[38;5;28mself\u001b[39m\u001b[38;5;241m.\u001b[39msplit_path(inputfn)\n\u001b[1;32m--> 289\u001b[0m \u001b[38;5;28;43mself\u001b[39;49m\u001b[38;5;241;43m.\u001b[39;49m\u001b[43manalyse\u001b[49m\u001b[43m(\u001b[49m\u001b[43m)\u001b[49m\n",
      "File \u001b[1;32mc:\\Users\\kohlbrecher\\switchdrive\\SASfitGit\\pySASfit\\src\\io_tools\\SASformats.py:265\u001b[0m, in \u001b[0;36mSANSdata.analyse\u001b[1;34m(self)\u001b[0m\n\u001b[0;32m    263\u001b[0m     \u001b[38;5;28;01mif\u001b[39;00m \u001b[38;5;28mself\u001b[39m\u001b[38;5;241m.\u001b[39mgetHDFinstr() \u001b[38;5;241m==\u001b[39m \u001b[38;5;124m\"\u001b[39m\u001b[38;5;124mSANS\u001b[39m\u001b[38;5;124m\"\u001b[39m:\n\u001b[0;32m    264\u001b[0m         \u001b[38;5;28mself\u001b[39m\u001b[38;5;241m.\u001b[39mfformat \u001b[38;5;241m=\u001b[39m \u001b[38;5;124m\"\u001b[39m\u001b[38;5;124mPSISANS1hdf\u001b[39m\u001b[38;5;124m\"\u001b[39m\n\u001b[1;32m--> 265\u001b[0m         \u001b[38;5;28;43mself\u001b[39;49m\u001b[38;5;241;43m.\u001b[39;49m\u001b[43mgetSANS1hdf\u001b[49m\u001b[43m(\u001b[49m\u001b[43m)\u001b[49m\n\u001b[0;32m    266\u001b[0m \u001b[38;5;28;01melif\u001b[39;00m \u001b[38;5;28mself\u001b[39m\u001b[38;5;241m.\u001b[39mext \u001b[38;5;241m==\u001b[39m \u001b[38;5;124m'\u001b[39m\u001b[38;5;124m.001\u001b[39m\u001b[38;5;124m'\u001b[39m:\n\u001b[0;32m    267\u001b[0m     \u001b[38;5;28mself\u001b[39m\u001b[38;5;241m.\u001b[39mfformat \u001b[38;5;241m=\u001b[39m \u001b[38;5;124m'\u001b[39m\u001b[38;5;124mBerSANSRaw1\u001b[39m\u001b[38;5;124m'\u001b[39m\n",
      "File \u001b[1;32mc:\\Users\\kohlbrecher\\switchdrive\\SASfitGit\\pySASfit\\src\\io_tools\\SASformats.py:91\u001b[0m, in \u001b[0;36mSANSdata.getSANS1hdf\u001b[1;34m(self)\u001b[0m\n\u001b[0;32m     88\u001b[0m     \u001b[38;5;28mself\u001b[39m\u001b[38;5;241m.\u001b[39mBerSANS\u001b[38;5;241m.\u001b[39mupdate({\u001b[38;5;124m\"\u001b[39m\u001b[38;5;132;01m%F\u001b[39;00m\u001b[38;5;124mile,ToTime\u001b[39m\u001b[38;5;124m\"\u001b[39m : HDF[\u001b[38;5;124m'\u001b[39m\u001b[38;5;124mentry1/end_time\u001b[39m\u001b[38;5;124m'\u001b[39m][\u001b[38;5;241m0\u001b[39m]\u001b[38;5;241m.\u001b[39mdecode(\u001b[38;5;124m'\u001b[39m\u001b[38;5;124mUTF-8\u001b[39m\u001b[38;5;124m'\u001b[39m)[\u001b[38;5;241m11\u001b[39m:]})\n\u001b[0;32m     90\u001b[0m \u001b[38;5;28;01mif\u001b[39;00m \u001b[38;5;124m'\u001b[39m\u001b[38;5;124mentry1/SANS/detector/x_pixel_size\u001b[39m\u001b[38;5;124m'\u001b[39m \u001b[38;5;129;01min\u001b[39;00m HDF\u001b[38;5;241m.\u001b[39mkeys():\n\u001b[1;32m---> 91\u001b[0m     \u001b[38;5;28mself\u001b[39m\u001b[38;5;241m.\u001b[39mBerSANS\u001b[38;5;241m.\u001b[39mupdate({\u001b[38;5;124m\"\u001b[39m\u001b[38;5;124m%\u001b[39m\u001b[38;5;124mDetector,PixelSizeX\u001b[39m\u001b[38;5;124m\"\u001b[39m : \u001b[43mHDF\u001b[49m\u001b[43m[\u001b[49m\u001b[38;5;124;43m'\u001b[39;49m\u001b[38;5;124;43mentry1/SANS/detector/x_pixel_size\u001b[39;49m\u001b[38;5;124;43m'\u001b[39;49m\u001b[43m]\u001b[49m\u001b[43m[\u001b[49m\u001b[38;5;241;43m0\u001b[39;49m\u001b[43m]\u001b[49m\u001b[38;5;241;43m.\u001b[39;49m\u001b[43mdecode\u001b[49m(\u001b[38;5;124m'\u001b[39m\u001b[38;5;124mUTF-8\u001b[39m\u001b[38;5;124m'\u001b[39m)})\n\u001b[0;32m     92\u001b[0m     \u001b[38;5;28mself\u001b[39m\u001b[38;5;241m.\u001b[39mBerSANS\u001b[38;5;241m.\u001b[39mupdate({\u001b[38;5;124m\"\u001b[39m\u001b[38;5;124m%\u001b[39m\u001b[38;5;124mDetector,PixelSizeXUnit\u001b[39m\u001b[38;5;124m\"\u001b[39m: HDF[\u001b[38;5;124m'\u001b[39m\u001b[38;5;124mentry1/SANS/detector/x_pixel_size\u001b[39m\u001b[38;5;124m'\u001b[39m]\u001b[38;5;241m.\u001b[39mattrs[\u001b[38;5;124m'\u001b[39m\u001b[38;5;124munits\u001b[39m\u001b[38;5;124m'\u001b[39m]\u001b[38;5;241m.\u001b[39mdecode(\u001b[38;5;124m'\u001b[39m\u001b[38;5;124mUTF-8\u001b[39m\u001b[38;5;124m'\u001b[39m)})\n\u001b[0;32m     93\u001b[0m \u001b[38;5;28;01mif\u001b[39;00m \u001b[38;5;124m'\u001b[39m\u001b[38;5;124mentry1/SANS/detector/y_pixel_size\u001b[39m\u001b[38;5;124m'\u001b[39m \u001b[38;5;129;01min\u001b[39;00m HDF\u001b[38;5;241m.\u001b[39mkeys():\n",
      "\u001b[1;31mAttributeError\u001b[0m: 'numpy.float64' object has no attribute 'decode'"
     ]
    }
   ],
   "source": [
    "DataHdf = SANSdata('C:\\\\Users\\\\kohlbrecher\\\\switchdrive\\\\SASfitGit\\\\pySASfit\\\\data\\\\sans2023n021192.hdf')\n",
    "Data = SANSdata('C:\\\\Users\\\\kohlbrecher\\\\switchdrive\\\\SASfitGit\\\\pySASfit\\\\data\\\\D0021192.001')\n",
    "#Data = SANSdata('C:\\\\Users\\\\kohlbrecher\\\\switchdrive\\\\SASfitGit\\\\pySASfit\\\\data\\\\D0021192.002')\n",
    "#Data = SANSdata('C:\\\\Users\\\\kohlbrecher\\\\switchdrive\\\\SASfitGit\\\\pySASfit\\\\data\\\\D0021192.020')"
   ]
  },
  {
   "cell_type": "code",
   "execution_count": 3,
   "id": "1529b32a",
   "metadata": {},
   "outputs": [
    {
     "ename": "NameError",
     "evalue": "name 'Data' is not defined",
     "output_type": "error",
     "traceback": [
      "\u001b[1;31m---------------------------------------------------------------------------\u001b[0m",
      "\u001b[1;31mNameError\u001b[0m                                 Traceback (most recent call last)",
      "Cell \u001b[1;32mIn[3], line 1\u001b[0m\n\u001b[1;32m----> 1\u001b[0m \u001b[38;5;28mprint\u001b[39m(\u001b[43mData\u001b[49m\u001b[38;5;241m.\u001b[39minfn)\n\u001b[0;32m      2\u001b[0m \u001b[38;5;28mprint\u001b[39m(Data\u001b[38;5;241m.\u001b[39mbasename)\n\u001b[0;32m      3\u001b[0m \u001b[38;5;28mprint\u001b[39m(Data\u001b[38;5;241m.\u001b[39mdirname)\n",
      "\u001b[1;31mNameError\u001b[0m: name 'Data' is not defined"
     ]
    }
   ],
   "source": [
    "print(Data.infn)\n",
    "print(Data.basename)\n",
    "print(Data.dirname)\n",
    "print(Data.ext)\n",
    "print(Data.fformat)\n",
    "print(DataHdf.BerSANS)"
   ]
  },
  {
   "cell_type": "code",
   "execution_count": 4,
   "id": "402e9ad7",
   "metadata": {},
   "outputs": [
    {
     "ename": "NameError",
     "evalue": "name 'Data' is not defined",
     "output_type": "error",
     "traceback": [
      "\u001b[1;31m---------------------------------------------------------------------------\u001b[0m",
      "\u001b[1;31mNameError\u001b[0m                                 Traceback (most recent call last)",
      "Cell \u001b[1;32mIn[4], line 2\u001b[0m\n\u001b[0;32m      1\u001b[0m \u001b[38;5;28;01mimport\u001b[39;00m \u001b[38;5;21;01mre\u001b[39;00m\n\u001b[1;32m----> 2\u001b[0m \u001b[43mData\u001b[49m\u001b[38;5;241m.\u001b[39mBerSANS[\u001b[38;5;124m'\u001b[39m\u001b[38;5;124m%\u001b[39m\u001b[38;5;124mCounter,Sum/Moni1\u001b[39m\u001b[38;5;124m'\u001b[39m]\n",
      "\u001b[1;31mNameError\u001b[0m: name 'Data' is not defined"
     ]
    }
   ],
   "source": [
    "import re\n",
    "Data.BerSANS['%Counter,Sum/Moni1']"
   ]
  },
  {
   "cell_type": "code",
   "execution_count": 6,
   "id": "e164fdba",
   "metadata": {},
   "outputs": [],
   "source": [
    "res = {key: val for key, val in Data.BerSANS.items() if re.search(f\"^%History\", key)}"
   ]
  },
  {
   "cell_type": "code",
   "execution_count": 7,
   "id": "b3b14710",
   "metadata": {},
   "outputs": [
    {
     "name": "stdout",
     "output_type": "stream",
     "text": [
      "{'%History,TotalSum': '31.0426', '%History,TotalTime': '89.3740', '%History,BeamcenterX': '61.70', '%History,BeamcenterY': '64.53', '%History,RadialSteps': '1.00', '%History,SectorWidth': '180.0', '%History,MaskFile': '2m.sma', '%History,Sample-BG': 'EC'}\n"
     ]
    }
   ],
   "source": [
    "print(res)"
   ]
  },
  {
   "cell_type": "code",
   "execution_count": 8,
   "id": "3eec7698",
   "metadata": {},
   "outputs": [],
   "source": [
    "import tkinter\n",
    "tkinter._test()"
   ]
  },
  {
   "cell_type": "code",
   "execution_count": null,
   "id": "627950a5",
   "metadata": {},
   "outputs": [],
   "source": []
  }
 ],
 "metadata": {
  "kernelspec": {
   "display_name": "Python 3 (ipykernel)",
   "language": "python",
   "name": "python3"
  },
  "language_info": {
   "codemirror_mode": {
    "name": "ipython",
    "version": 3
   },
   "file_extension": ".py",
   "mimetype": "text/x-python",
   "name": "python",
   "nbconvert_exporter": "python",
   "pygments_lexer": "ipython3",
   "version": "3.9.13"
  }
 },
 "nbformat": 4,
 "nbformat_minor": 5
}

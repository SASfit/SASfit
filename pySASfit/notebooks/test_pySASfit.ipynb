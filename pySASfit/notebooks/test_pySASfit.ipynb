{
 "cells": [
  {
   "cell_type": "markdown",
   "id": "0a8f29be",
   "metadata": {},
   "source": [
    "# notebook using toolbox for SINQ-SANS data files\n",
    "by Joachim Kohlbrecher"
   ]
  },
  {
   "cell_type": "markdown",
   "id": "344c30e0",
   "metadata": {},
   "source": [
    "## path to SASfit home dir "
   ]
  },
  {
   "cell_type": "code",
   "execution_count": 1,
   "id": "364c5811",
   "metadata": {},
   "outputs": [],
   "source": [
    "# Using Path in contemporary Python provides easy&safe helper functions\n",
    "from pathlib import Path\n",
    "sasfit_path = Path().resolve().parent.parent\n",
    "# override here if libsasfit is found somewhere else\n",
    "# sasfit_path = Path(r\"Y:\\shared\\SASfit-0.94.12-windows64\")\n",
    "assert sasfit_path.is_dir(), \"Directory 'sasfit_path' not found!\""
   ]
  },
  {
   "cell_type": "markdown",
   "id": "a45813a3",
   "metadata": {},
   "source": [
    "## Accessing io-library\n",
    "reading hdf and BerSANS data file taken on SANS-1 at SINQ/PSI"
   ]
  },
  {
   "cell_type": "code",
   "execution_count": 2,
   "id": "14c7b94b",
   "metadata": {},
   "outputs": [],
   "source": [
    "import os\n",
    "import sys\n",
    "notebook_name = os.path.basename(os.getcwd())\n",
    "sys.path.insert(0, os.path.abspath(os.path.join(os.path.dirname(os.getcwd()), '..')))\n",
    "\n",
    "from pySASfit.src.io_tools.SASformats import SANSdata"
   ]
  },
  {
   "cell_type": "code",
   "execution_count": 8,
   "id": "42e93aea",
   "metadata": {},
   "outputs": [],
   "source": [
    "DataHdf = SANSdata('C:\\\\Users\\\\kohlbrecher\\\\switchdrive\\\\SASfitGit\\\\pySASfit\\\\data\\\\sans2023n021192.hdf')\n",
    "Data = SANSdata('C:\\\\Users\\\\kohlbrecher\\\\switchdrive\\\\SASfitGit\\\\pySASfit\\\\data\\\\D0021192.001')\n",
    "Data = SANSdata('C:\\\\Users\\\\kohlbrecher\\\\switchdrive\\\\SASfitGit\\\\pySASfit\\\\data\\\\D0021192.002')\n",
    "Data = SANSdata('C:\\\\Users\\\\kohlbrecher\\\\switchdrive\\\\SASfitGit\\\\pySASfit\\\\data\\\\D0021192.020')"
   ]
  },
  {
   "cell_type": "code",
   "execution_count": 10,
   "id": "1529b32a",
   "metadata": {},
   "outputs": [
    {
     "name": "stdout",
     "output_type": "stream",
     "text": [
      "C:\\Users\\kohlbrecher\\switchdrive\\SASfitGit\\pySASfit\\data\\D0021192.020\n",
      "D0021192.020\n",
      "C:\\Users\\kohlbrecher\\switchdrive\\SASfitGit\\pySASfit\\data\n",
      ".020\n",
      "BerSANSDIso\n",
      "{'DetCounts': array([[ 1,  1, 20, ..., 32,  7,  2],\n",
      "       [ 1, 19, 46, ..., 63, 31,  3],\n",
      "       [ 0, 58, 86, ..., 94, 79, 53],\n",
      "       ...,\n",
      "       [ 1, 70, 82, ..., 73, 62, 38],\n",
      "       [ 0, 13, 37, ..., 51,  9,  1],\n",
      "       [ 0,  4,  4, ...,  2,  0,  0]], dtype=uint32), '%File,Type': 'SANSDRawhdf', '%File,FileName': 'sans2023n021192.hdf', '%File,DataSize': 16384, '%File,DataSizeX': 128, '%File,DataSizeY': 128, '%File,Definition': 'NXsas', '%File:Instrument': 'SANS', '%File:Source': 'SINQ, Paul Scherrer Institute', '%File:User': 'Sägesser', '%File:ProposalID': '20222544', '%File:ProposalTitle': 'Examination of structure development during extrusion of microalgae-based meat analogues by neutron scattering', '%File:Title=': 'Examination of structure development during extrusion of microalgae-based meat analogues by neutron scattering', '%File:FromDate': '2023-07-17', '%File:FromTime': '16:26:00', '%File:ToDate': '2023-07-17', '%File:ToTime': '16:26:00', '%Sample,SampleName': 'K-0', '%Sample,Temperature': 0.0, '%Sample,XPos=': 0.004, '%Sample,XPosNull=': 0.0, '%Sample,YPos': -0.007, '%Sample,YPosNull': 0.0, '%Sample,ZPos': 8.995, '%Sample,ZPosNull': 0.0, '%Sample,A3': 0.0, '%Sample,A3Null': 0.099, '%Sample,Omega': 0.0, '%Sample,OmegaNull': 0.099, '%Sample,SG': -79.272, '%Sample,SGNull': -0.002, '%Sample,Position': 112.0, '%Sample,PositionNull': 0.0, '%Sample,Theta': -79.272, '%Sample,ThetaNull': -0.002, '%Sample,IEEE6': 55.94, '%Sample,IEEE1': 509404.496, '%Sample,IEEE2': 111612.078, '%Sample,IEEE3': 0.0, '%Sample,IEEE5': 499961, '%Sample,IEEE7': 792444, '%Sample,IEEE8': 500000, '%Setup,LambdaC': 27778.812, '%Setup,Lambda': 0.5, '%Setup,Collimation': 8, '%Setup,Attenuator': '0', '%Setup,Beamstop': 3, '%Setup,BeamstopX': -23.85, '%Setup,BeamstopXNull': 0.0, '%Setup,BeamstopY': 7.0, '%Setup,BeamstopYNull': 0.0, '%Setup,SD': 1.6, '%Setup,SDNull': 1.53, '%Setup,SY': 0.01, '%Setup,SYNull': 0.0, '%Counter,ProtonBeam': 55.94, '%Counter,Moni1': 509404, '%Counter,Moni2': 111612, '%Counter,Moni3': 0, '%Counter,Moni5': 499961, '%Counter,Moni7': 792444, '%Counter,Moni8': 500000, '%Counter,Time': 89.374, '%Counter,Sum': 2229349, '%Counter,Sum/Time': 24944.044, '%Counter,Sum/Moni1': 4.3764, '%Counter,Sum/Moni2': 19.9741}\n"
     ]
    }
   ],
   "source": [
    "print(Data.infn)\n",
    "print(Data.basename)\n",
    "print(Data.dirname)\n",
    "print(Data.ext)\n",
    "print(Data.fformat)\n",
    "print(DataHdf.BerSANS)"
   ]
  },
  {
   "cell_type": "code",
   "execution_count": 5,
   "id": "402e9ad7",
   "metadata": {},
   "outputs": [
    {
     "ename": "KeyError",
     "evalue": "'%Counter,Sum/Moni1'",
     "output_type": "error",
     "traceback": [
      "\u001b[1;31m---------------------------------------------------------------------------\u001b[0m",
      "\u001b[1;31mKeyError\u001b[0m                                  Traceback (most recent call last)",
      "Cell \u001b[1;32mIn[5], line 2\u001b[0m\n\u001b[0;32m      1\u001b[0m \u001b[38;5;28;01mimport\u001b[39;00m \u001b[38;5;21;01mre\u001b[39;00m\n\u001b[1;32m----> 2\u001b[0m \u001b[43mData\u001b[49m\u001b[38;5;241;43m.\u001b[39;49m\u001b[43mBerSANS\u001b[49m\u001b[43m[\u001b[49m\u001b[38;5;124;43m'\u001b[39;49m\u001b[38;5;124;43m%\u001b[39;49m\u001b[38;5;124;43mCounter,Sum/Moni1\u001b[39;49m\u001b[38;5;124;43m'\u001b[39;49m\u001b[43m]\u001b[49m\n",
      "\u001b[1;31mKeyError\u001b[0m: '%Counter,Sum/Moni1'"
     ]
    }
   ],
   "source": [
    "import re\n",
    "Data.BerSANS['%Counter,Sum/Moni1']"
   ]
  },
  {
   "cell_type": "code",
   "execution_count": 6,
   "id": "e164fdba",
   "metadata": {},
   "outputs": [],
   "source": [
    "res = {key: val for key, val in Data.BerSANS.items() if re.search(f\"^%History\", key)}"
   ]
  },
  {
   "cell_type": "code",
   "execution_count": 7,
   "id": "b3b14710",
   "metadata": {},
   "outputs": [
    {
     "name": "stdout",
     "output_type": "stream",
     "text": [
      "{'%History,TotalSum': '31.0426', '%History,TotalTime': '89.3740', '%History,BeamcenterX': '61.70', '%History,BeamcenterY': '64.53', '%History,RadialSteps': '1.00', '%History,SectorWidth': '180.0', '%History,MaskFile': '2m.sma', '%History,Sample-BG': 'EC'}\n"
     ]
    }
   ],
   "source": [
    "print(res)"
   ]
  },
  {
   "cell_type": "code",
   "execution_count": 8,
   "id": "3eec7698",
   "metadata": {},
   "outputs": [],
   "source": [
    "import tkinter\n",
    "tkinter._test()"
   ]
  },
  {
   "cell_type": "code",
   "execution_count": null,
   "id": "627950a5",
   "metadata": {},
   "outputs": [],
   "source": []
  }
 ],
 "metadata": {
  "kernelspec": {
   "display_name": "Python 3 (ipykernel)",
   "language": "python",
   "name": "python3"
  },
  "language_info": {
   "codemirror_mode": {
    "name": "ipython",
    "version": 3
   },
   "file_extension": ".py",
   "mimetype": "text/x-python",
   "name": "python",
   "nbconvert_exporter": "python",
   "pygments_lexer": "ipython3",
   "version": "3.10.12"
  }
 },
 "nbformat": 4,
 "nbformat_minor": 5
}

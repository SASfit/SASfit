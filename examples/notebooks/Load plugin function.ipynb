{
 "cells": [
  {
   "cell_type": "markdown",
   "id": "34851a45-334e-4462-8b6b-000b54050189",
   "metadata": {
    "tags": []
   },
   "source": [
    "# Search and load a SASfit plugin function with Python\n",
    "by Gonzalo Rumi, with modifications by Ingo Breßler"
   ]
  },
  {
   "cell_type": "markdown",
   "id": "ece35344",
   "metadata": {},
   "source": [
    "## Look for a _plugin_ function\n",
    "\n",
    "With the following code, you can search for a function and obtain information about its parameters"
   ]
  },
  {
   "cell_type": "code",
   "execution_count": 1,
   "id": "27c90882-581a-4945-86b1-2a158f4f436d",
   "metadata": {},
   "outputs": [],
   "source": [
    "# Using Path in contemporary Python provides easy&safe helper functions\n",
    "from pathlib import Path\n",
    "sasfit_path = Path(r\"Y:\\shared\\SASfit-0.94.12-windows64\")\n",
    "assert sasfit_path.is_dir(), \"Directory 'sasfit_path' not found!\""
   ]
  },
  {
   "cell_type": "code",
   "execution_count": 2,
   "id": "0bf95878-4a06-4b0c-9b49-07c0d6a67365",
   "metadata": {},
   "outputs": [],
   "source": [
    "#\n",
    "# This code gets all information about all the functions available as dll files\n",
    "#\n",
    "\n",
    "import os\n",
    "\n",
    "# we get a list of the .dll files in the plugin folder\n",
    "plugin_list = [\n",
    "    fn.stem[10:]\n",
    "    for fn in (sasfit_path / \"plugins\").iterdir()\n",
    "    if fn.name.startswith(\"libsasfit_\") and fn.suffix == \".dll\"\n",
    "]\n",
    "#plugin_list"
   ]
  },
  {
   "cell_type": "code",
   "execution_count": 3,
   "id": "512573b7-d6c9-4f79-aed1-79c5677e4ade",
   "metadata": {},
   "outputs": [],
   "source": [
    "from pprint import pprint\n",
    "\n",
    "# we extract information about the functions stored in each of the header files\n",
    "functions = {}\n",
    "debug = False\n",
    "for plugin in plugin_list: # please use variables names telling something about their purpose\n",
    "    filename = sasfit_path / \"plugins\" / f\"sasfit_{plugin}.h\"\n",
    "    if debug:\n",
    "        print(filename)\n",
    "    with open(filename) as fh: # always use 'with' scope, handles file closing on exceptions for you\n",
    "        try:\n",
    "            for x in fh.read().split(\"/* ################ start \")[1:]:\n",
    "                ftype = x[:2]\n",
    "                name = (x[3:].split(\" ################ */\"))[0]\n",
    "                description = (x.split(\"* \\\\brief\")[1]).split(\n",
    "                    \"<more detailed documentation, see 'doxygen' docs>\"\n",
    "                )[0].splitlines()\n",
    "                # filter out leading ' *' C-style comments from 2nd line on\n",
    "                description = \"\".join([description[0]]\n",
    "                                        +[line.strip().removeprefix(\"*\")\n",
    "                                          for line in description[2:]]).strip()\n",
    "                #print(f\"{ftype=}, {name=}, {description=}\")\n",
    "\n",
    "                parameters_section = x.split(\"\\\\par Required parameters:\")[1].split(\"</table>\")[0]\n",
    "                #print(1,f\"{parameters_section=}\")\n",
    "                # extract parameter name and description\n",
    "                parameters = [par_field.split(\"</td>\")[0].removeprefix(r\"\\b\").strip()\n",
    "                              for par_field in parameters_section.split(\"<td>\")][1:]\n",
    "                # group parameters to (name, description) tuples\n",
    "                parameters = list(zip(*(iter(parameters),)*2))\n",
    "                functions[name] = {\n",
    "                    \"name\": name,\n",
    "                    \"type\": ftype,\n",
    "                    \"description\": description,\n",
    "                    \"parameters\": parameters,\n",
    "                    \"group\": plugin, # this should be 'plugin' instead of 'group', right?\n",
    "                                     # perhaps, confused with SF plugin groups defined in .def files\n",
    "                }\n",
    "                if debug:\n",
    "                    pprint(functions[name])\n",
    "                    print()\n",
    "        except:\n",
    "            raise\n",
    "            print(\"\\n\")  # Error retrieving parameters for \"+i+\"\\n\\n\")\n"
   ]
  },
  {
   "cell_type": "code",
   "execution_count": 7,
   "id": "ab3ab0db-dbbd-4bb6-b83c-1b2bd28f0c55",
   "metadata": {},
   "outputs": [
    {
     "name": "stdin",
     "output_type": "stream",
     "text": [
      " * * * * * * *\n",
      "Search for a particular function: saupe\n"
     ]
    },
    {
     "name": "stdout",
     "output_type": "stream",
     "text": [
      "\n",
      " * * * * * * *\n",
      "\n",
      "maiersaupe__deg_\n",
      "\n",
      "\\<some brief description of MaierSaupe (deg) function\\>\n",
      "\n",
      "Parameters:\n",
      "\n",
      "I0:\tflat background\n",
      "A:\tanisotropic amplitude\n",
      "kappa:\twidth\n",
      "delta:\treference direction  relative to horizontal direction in degree\n",
      "\n",
      " * * * * * * *\n",
      "\n",
      "maiersaupe__rad_\n",
      "\n",
      "\\<some brief description of MaierSaupe (rad) function\\>\n",
      "\n",
      "Parameters:\n",
      "\n",
      "I0:\tflat background\n",
      "A:\tanisotropic amplitude\n",
      "kappa:\twidth\n",
      "delta:\treference direction relative to horizontal direction in radian\n",
      "\n",
      " * * * * * * *\n",
      "\n",
      "azimuthal_sheared_cylinders_maier_saupe\n",
      "\n",
      "\\<some brief description of Sheared Cylinders (Maier-Saupe) azimuthal function\\>\n",
      "\n",
      "Parameters:\n",
      "\n",
      "R:\tcore radius\n",
      "t:\tshell thickness\n",
      "L:\tcylinder length\n",
      "eta_core:\tscattering length density of core\n",
      "eta_shell:\tscattering length density of shell\n",
      "eta_solv:\tscattering length density of solvent\n",
      "Q:\tscattering vector\n",
      "sigma:\twidth parameter of lognormal size distribution of radii\n",
      "kappa:\torientation distribution parameter\n",
      "dummy:\tnot used\n",
      "dummy:\tnot used\n",
      "\n",
      " * * * * * * *\n",
      "\n",
      "azimuthal_sheared_spheroid_maier_saupe\n",
      "\n",
      "\\<some brief description of Sheared Spheroid (Maier-Saupe) azimuthal function\\>\n",
      "\n",
      "Parameters:\n",
      "\n",
      "R_equatorial:\tequatorial semi-axes\n",
      "t:\tshell thickness\n",
      "R_polar:\tpolar semin-axis\n",
      "eta_core:\tscattering length density of core\n",
      "eta_shell:\tscattering length density of shell\n",
      "eta_solv:\tscattering length density of solvent\n",
      "Q:\tscattering vector\n",
      "sigma:\twidth parameter of lognormal size distribution of radii\n",
      "kappa:\torientation distribution parameter\n",
      "dummy:\tnot used\n",
      "dummy:\tnot used\n",
      "\n",
      " * * * * * * *\n",
      "\n",
      "sheared_cylinders__maier_saupe_\n",
      "\n",
      "\\<some brief description of Sheared Cylinders (Maier-Saupe) function\\>\n",
      "\n",
      "Parameters:\n",
      "\n",
      "R:\tcore radius\n",
      "t:\tshell thickness\n",
      "L:\tcylinder length\n",
      "eta_core:\tscattering length density of core\n",
      "eta_shell:\tscattering length density of shell\n",
      "eta_solv:\tscattering length density of solvent\n",
      "psi:\tdirection of Q in degree\n",
      "sigma:\twidth parameter of lognormal size distribution of radii\n",
      "kappa:\torientation distribution parameter\n",
      "dummy:\tnot used\n",
      "dummy:\tnot used\n",
      "\n",
      " * * * * * * *\n",
      "\n",
      "sheared_spheroids__maier_saupe_\n",
      "\n",
      "\\<some brief description of Sheared Spheroids (Maier-Saupe) function\\>\n",
      "\n",
      "Parameters:\n",
      "\n",
      "R_equatorial:\tequatorial semi-axes\n",
      "t:\tshell thickness\n",
      "R_polar:\tpolar semin-axis\n",
      "eta_core:\tscattering length density of core\n",
      "eta_shell:\tscattering length density of shell\n",
      "eta_solv:\tscattering length density of solvent\n",
      "psi:\tdirection of Q in degree\n",
      "sigma:\twidth parameter of lognormal size distribution of radii\n",
      "kappa:\torientation distribution parameter\n",
      "dummy:\tnot used\n",
      "dummy:\tnot used\n",
      "\n",
      " * * * * * * *\n",
      "\n"
     ]
    }
   ],
   "source": [
    "search = input(\" * * * * * * *\\nSearch for a particular function:\")\n",
    "print(\"\\n * * * * * * *\\n\")\n",
    "\n",
    "for func in functions: # please use variables names telling something about their purpose\n",
    "    if search in func:\n",
    "        print(func + \"\\n\")\n",
    "        print(functions[func][\"description\"])\n",
    "        print(\"\\nParameters:\\n\")\n",
    "        for p in functions[func][\"parameters\"]:\n",
    "            print(\":\\t\".join(p))\n",
    "        print(\"\\n * * * * * * *\\n\")"
   ]
  },
  {
   "cell_type": "markdown",
   "id": "6399d03d",
   "metadata": {},
   "source": [
    "## Obtain the values for a function by means of the _.dll_ file\n",
    "\n",
    "You can copy the name and group of the function you looked for above and obtain useful values for your code."
   ]
  },
  {
   "cell_type": "markdown",
   "id": "4e7d4dc6-3275-4168-b827-13b885fe4195",
   "metadata": {},
   "source": [
    "### Required imports"
   ]
  },
  {
   "cell_type": "code",
   "execution_count": 1,
   "id": "27978334-7e7b-4b7b-be04-8346233a1a76",
   "metadata": {},
   "outputs": [],
   "source": [
    "import matplotlib.pyplot as plt\n",
    "import numpy as np\n",
    "import ctypes\n",
    "from ctypes import *\n",
    "import sys\n",
    "import os"
   ]
  },
  {
   "cell_type": "code",
   "execution_count": 2,
   "id": "12d6cabc-5dac-4da1-b952-223524e87cff",
   "metadata": {},
   "outputs": [],
   "source": [
    "# Using Path in contemporary Python provides easy&safe helper functions\n",
    "from pathlib import Path\n",
    "sasfit_path = Path(r\"Y:\\shared\\SASfit-0.94.12-windows64\")\n",
    "assert sasfit_path.is_dir(), \"Directory 'sasfit_path' not found!\""
   ]
  },
  {
   "cell_type": "markdown",
   "id": "0ce3e7ab-3910-42ff-ac08-ffefc0695300",
   "metadata": {},
   "source": [
    "## Load main SASfit DLL and init the Plugin"
   ]
  },
  {
   "cell_type": "markdown",
   "id": "f6485ecb-b8bd-4384-be70-52a05061c465",
   "metadata": {
    "tags": []
   },
   "source": [
    "### Need to define the SASfit parameter structure first\n",
    "Needed to get error messages and such ..."
   ]
  },
  {
   "cell_type": "code",
   "execution_count": 3,
   "id": "38b626f1-4614-4165-84cc-7d6e156050c4",
   "metadata": {},
   "outputs": [],
   "source": [
    "# has to match the value in\n",
    "# https://github.com/SASfit/SASfit/blob/master/src/sasfit_common/include/sasfit_constants.h#L45\n",
    "MAXPAR = 50\n",
    "STRLEN = 256 # defined below MAXPAR in the same file\n",
    "\n",
    "# defining an equivalent of the C sasfit_param struct\n",
    "# https://github.com/SASfit/SASfit/blob/master/src/sasfit_common/include/sasfit_function.h#L146\n",
    "# according to https://docs.python.org/3/library/ctypes.html#structures-and-unions\n",
    "class SASFIT_PARAM(ctypes.Structure):\n",
    "    _fields_ = [(\"p\", ctypes.c_double * MAXPAR),\n",
    "                # sasfit_kernel_type, numbered sequentially, in:\n",
    "                # https://github.com/SASfit/SASfit/blob/master/src/sasfit_common/include/sasfit_function.h#L118\n",
    "                (\"kernelSelector\", ctypes.c_int),\n",
    "                (\"kernelSubSelector\", ctypes.c_int),\n",
    "                (\"errStr\", ctypes.c_char * STRLEN),\n",
    "                (\"errLen\", ctypes.c_int),\n",
    "                (\"errStatus\", ctypes.c_int),\n",
    "                (\"xarr\", ctypes.c_void_p),\n",
    "                (\"yarr\", ctypes.c_void_p),\n",
    "                (\"moreparam\", ctypes.c_void_p),\n",
    "                (\"more_p\", ctypes.c_double * MAXPAR),\n",
    "                # function pointer, set to void* for now, not sure where this is used\n",
    "                (\"function\", ctypes.c_void_p)\n",
    "               ]"
   ]
  },
  {
   "cell_type": "markdown",
   "id": "91890ac9-847f-4c85-a52f-8f949f9309a9",
   "metadata": {},
   "source": [
    "### Rebuilding SASfit data structures at play\n",
    "Required for plugin management functions, such as setting the *stub* pointer (points to a table of internal SASfit functions, also some frequently used numerical algos). *SASfit does this for each plugin it loads.*"
   ]
  },
  {
   "cell_type": "code",
   "execution_count": 4,
   "id": "9e5ff750-992d-4b5f-ac97-8f348d72ef3e",
   "metadata": {},
   "outputs": [],
   "source": [
    "## Python implementation of *examples/example_sasfit_ff_fuzzysphere.c*\n",
    "SASFIT_FUNC_ONE_T = CFUNCTYPE(c_double, c_double, POINTER(SASFIT_PARAM))\n",
    "SASFIT_FUNC_VOL_T = CFUNCTYPE(c_double, c_double, POINTER(SASFIT_PARAM), c_int)\n",
    "class SASFIT_PLUGIN_FUNC_T(ctypes.Structure):\n",
    "    _fields_ = [(\"len\", ctypes.c_int),\n",
    "                (\"name\", ctypes.c_char_p),\n",
    "                (\"func\", POINTER(SASFIT_FUNC_ONE_T)),\n",
    "                (\"func_f\", POINTER(SASFIT_FUNC_ONE_T)),\n",
    "                (\"func_v\", POINTER(SASFIT_FUNC_VOL_T)),]\n",
    "class SASFIT_PLUGIN_INFO_T(ctypes.Structure):\n",
    "    _fields_ = [(\"num\", ctypes.c_int),\n",
    "                (\"functions\", POINTER(SASFIT_PLUGIN_FUNC_T))]\n",
    "class SASFIT_COMMON_STUBS_T(ctypes.Structure):\n",
    "    _fields_ = [(\"func\", ctypes.c_void_p*155),\n",
    "                ]"
   ]
  },
  {
   "cell_type": "markdown",
   "id": "73bfd62c-bc65-4acc-9d0a-463b88a2b5bd",
   "metadata": {},
   "source": [
    "### Mind the stubs!\n",
    "It is important to call each plugins `do_init()` function first. Most importantly, it sets the *stubs* pointer which gives access to SASfits internal functions, such as `sasfit_param_set_err()` (called by `CHECK_COND*()`) and many numerical routines. They do not appear as DLL dependencies. The stub pointer is set pointing to a sasfit.dll structure during plugin loading which has to be replicated with python."
   ]
  },
  {
   "cell_type": "code",
   "execution_count": 5,
   "id": "f2edc222-9cf1-4a9c-b5fd-570e9f18f194",
   "metadata": {},
   "outputs": [],
   "source": [
    "os.chdir(sasfit_path) # needs to load dependent libs in main dir\n",
    "SASFIT_CORE_DLL = cdll.LoadLibrary(str(sasfit_path / \"lib\" / \"libsasfit.dll\"))\n",
    "SASFIT_PLUGIN_DLL = cdll.LoadLibrary(str(sasfit_path / \"plugins\" / \"libsasfit_peak.dll\"))"
   ]
  },
  {
   "cell_type": "code",
   "execution_count": 14,
   "id": "7c53b6c3-7a01-4049-8eff-c5091b3b90cf",
   "metadata": {},
   "outputs": [
    {
     "name": "stdout",
     "output_type": "stream",
     "text": [
      "Initializing plugin ...\n",
      "success.\n"
     ]
    }
   ],
   "source": [
    "print(\"Initializing plugin ...\")\n",
    "pi = (POINTER(SASFIT_PLUGIN_INFO_T)*1)()\n",
    "bool(pi) # a test\n",
    "SASFIT_CORE_DLL.sasfit_common_stubs_ptr.restype = POINTER(SASFIT_COMMON_STUBS_T)\n",
    "SASFIT_PLUGIN_DLL.do_init.restype = ctypes.c_int\n",
    "if bool(SASFIT_PLUGIN_DLL.do_init(byref(pi),\n",
    "                                SASFIT_CORE_DLL.sasfit_common_stubs_ptr(),\n",
    "                                SASFIT_CORE_DLL.sasfit_plugin_search)):\n",
    "    print(\"success.\")\n",
    "else:\n",
    "    print(\"There is a problem!\")"
   ]
  },
  {
   "cell_type": "code",
   "execution_count": 24,
   "id": "b107cc88-bac8-4397-8e88-28e139f8e743",
   "metadata": {},
   "outputs": [
    {
     "ename": "AssertionError",
     "evalue": "C:/projects/sasfit/src/plugins/peak/sasfit_peak_gaussian_amplitude.c:43: Can not calculate form factor because width(-2.2) <= 0 !\n",
     "output_type": "error",
     "traceback": [
      "\u001b[1;31m---------------------------------------------------------------------------\u001b[0m",
      "\u001b[1;31mAssertionError\u001b[0m                            Traceback (most recent call last)",
      "Input \u001b[1;32mIn [24]\u001b[0m, in \u001b[0;36m<cell line: 19>\u001b[1;34m()\u001b[0m\n\u001b[0;32m     17\u001b[0m xvec \u001b[38;5;241m=\u001b[39m np\u001b[38;5;241m.\u001b[39marange(\u001b[38;5;241m0\u001b[39m, \u001b[38;5;241m15\u001b[39m, \u001b[38;5;241m0.1\u001b[39m)\n\u001b[0;32m     18\u001b[0m plt\u001b[38;5;241m.\u001b[39mion()\n\u001b[1;32m---> 19\u001b[0m plt\u001b[38;5;241m.\u001b[39mplot(xvec, \u001b[43mread_dll\u001b[49m\u001b[43m(\u001b[49m\u001b[43mxvec\u001b[49m\u001b[43m,\u001b[49m\u001b[43m \u001b[49m\u001b[38;5;241;43m1\u001b[39;49m\u001b[43m,\u001b[49m\u001b[43m \u001b[49m\u001b[38;5;241;43m4\u001b[39;49m\u001b[43m,\u001b[49m\u001b[43m \u001b[49m\u001b[38;5;241;43m2.2\u001b[39;49m\u001b[43m,\u001b[49m\u001b[43m \u001b[49m\u001b[38;5;241;43m0.2\u001b[39;49m\u001b[43m)\u001b[49m)\n\u001b[0;32m     20\u001b[0m plt\u001b[38;5;241m.\u001b[39mshow()\n",
      "Input \u001b[1;32mIn [24]\u001b[0m, in \u001b[0;36mread_dll\u001b[1;34m(xvec, *args)\u001b[0m\n\u001b[0;32m     12\u001b[0m \u001b[38;5;66;03m# list comprehensions are faster typically\u001b[39;00m\n\u001b[0;32m     13\u001b[0m result \u001b[38;5;241m=\u001b[39m [read_gaussian(c_double(x), byref(par)) \u001b[38;5;28;01mfor\u001b[39;00m x \u001b[38;5;129;01min\u001b[39;00m xvec]\n\u001b[1;32m---> 14\u001b[0m \u001b[38;5;28;01massert\u001b[39;00m \u001b[38;5;129;01mnot\u001b[39;00m par\u001b[38;5;241m.\u001b[39merrStatus, par\u001b[38;5;241m.\u001b[39merrStr\u001b[38;5;241m.\u001b[39mdecode(\u001b[38;5;124m\"\u001b[39m\u001b[38;5;124mutf8\u001b[39m\u001b[38;5;124m\"\u001b[39m)\n\u001b[0;32m     15\u001b[0m \u001b[38;5;28;01mreturn\u001b[39;00m result\n",
      "\u001b[1;31mAssertionError\u001b[0m: C:/projects/sasfit/src/plugins/peak/sasfit_peak_gaussian_amplitude.c:43: Can not calculate form factor because width(-2.2) <= 0 !\n"
     ]
    }
   ],
   "source": [
    "def read_dll(xvec, *args):\n",
    "    #read_gaussian = cdll.LoadLibrary(str(sasfit_path / \"plugins\" / \"libsasfit_peak.dll\")).sasfit_peak_gaussian_amplitude\n",
    "    read_gaussian = SASFIT_PLUGIN_DLL.sasfit_peak_gaussian_amplitude\n",
    "#    read_gpolymer= cdll.LoadLibrary(\"C:\\SASfit-0.94.12\\plugins\\libsasfit_polymer_chains.dll\").sasfit_ff_gauspoly\n",
    "#    read_HS=cdll.LoadLibrary(\"C:\\SASfit-0.94.12\\plugins\\libsasfit_hard_spheres.dll\").sasfit_sq_hard_sphere__4_3_\n",
    "    \n",
    "    read_gaussian.restype = c_double\n",
    "    \n",
    "    par = SASFIT_PARAM((args[:3]+(0, 0)+args[3:]))\n",
    "    #par.p[2] *= -1 # SASFIT_CHECK_COND1() raising an error here\n",
    "    \n",
    "    # list comprehensions are faster typically\n",
    "    result = [read_gaussian(c_double(x), byref(par)) for x in xvec]\n",
    "    assert not par.errStatus, par.errStr.decode(\"utf8\")\n",
    "    return result\n",
    "\n",
    "xvec = np.arange(0, 15, 0.1)\n",
    "plt.ion()\n",
    "plt.plot(xvec, read_dll(xvec, 1, 4, 2.2, 0.2))\n",
    "plt.show()"
   ]
  },
  {
   "cell_type": "code",
   "execution_count": 27,
   "id": "c244a9e7",
   "metadata": {},
   "outputs": [
    {
     "data": {
      "text/plain": [
       "3.2080676736862443"
      ]
     },
     "execution_count": 27,
     "metadata": {},
     "output_type": "execute_result"
    }
   ],
   "source": [
    "import ctypes\n",
    "from ctypes import *\n",
    "import sys\n",
    "import os\n",
    "\n",
    "read_gaussian=SASFIT_PLUGIN_DLL.sasfit_peak_gaussian_amplitude\n",
    "\n",
    "par=(ctypes.c_double * 6)(*[3, 5, 2.2, 0, 0, 0.4])\n",
    "\n",
    "read_gaussian.restype = c_double\n",
    "\n",
    "read_gaussian(c_double(4.2), POINTER(c_double)(par))\n"
   ]
  }
 ],
 "metadata": {
  "kernelspec": {
   "display_name": "Python 3 (ipykernel)",
   "language": "python",
   "name": "python3"
  },
  "language_info": {
   "codemirror_mode": {
    "name": "ipython",
    "version": 3
   },
   "file_extension": ".py",
   "mimetype": "text/x-python",
   "name": "python",
   "nbconvert_exporter": "python",
   "pygments_lexer": "ipython3",
   "version": "3.9.12"
  }
 },
 "nbformat": 4,
 "nbformat_minor": 5
}
